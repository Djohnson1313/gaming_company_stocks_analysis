{
 "cells": [
  {
   "cell_type": "markdown",
   "id": "60d29299-e482-4cc8-a1a7-42d5682051ad",
   "metadata": {},
   "source": [
    "# Gaming Stocks Analysis\n",
    "---"
   ]
  },
  {
   "cell_type": "markdown",
   "id": "3c412068-d70c-40a4-8de4-0d82544b8e61",
   "metadata": {},
   "source": [
    "## Author Information\n",
    "\n",
    "Name : Darryn Johnson\n",
    "\n",
    "Date last updated : 11/28/2024"
   ]
  },
  {
   "cell_type": "markdown",
   "id": "e6b1837c-a9ef-44ab-878f-2a7173e166ca",
   "metadata": {},
   "source": [
    "---\n",
    "## Sources and Links\n",
    "\n",
    "Original Kaggle dataset : [Video Game Stocks: Financial Market Data](https://www.kaggle.com/datasets/datadrivenx/video-game-stocks-financial-market-data)"
   ]
  },
  {
   "cell_type": "markdown",
   "id": "41cbfe2a-38e7-4ac3-beec-6e2821dd6862",
   "metadata": {},
   "source": [
    "---\n",
    "# Overview"
   ]
  },
  {
   "cell_type": "markdown",
   "id": "a50ed59d-ddd4-4e7e-b41f-dba27213452b",
   "metadata": {},
   "source": [
    "---\n",
    "# Imports"
   ]
  },
  {
   "cell_type": "code",
   "execution_count": 1,
   "id": "41945f9f-00f4-4490-aabd-a631ef3ef9b7",
   "metadata": {},
   "outputs": [],
   "source": [
    "import pandas as pd\n",
    "import numpy as np\n",
    "import matplotlib.pyplot as plt\n",
    "import seaborn as sns"
   ]
  },
  {
   "cell_type": "markdown",
   "id": "2452f8c1-2ac6-43d0-ac33-bd7bdb315927",
   "metadata": {},
   "source": [
    "---\n",
    "# Reproducability\n",
    "\n",
    "To reproduce these results yourself, open google colab and locate this github repo under my github account. From there, simply run the notebook from start to finish."
   ]
  },
  {
   "cell_type": "code",
   "execution_count": 2,
   "id": "f2753a4d-cc7b-449a-a643-f1e26823a6f8",
   "metadata": {},
   "outputs": [],
   "source": [
    "# !kaggle datasets download -d datadrivenx/video-game-stocks-financial-market-data\n",
    "# !unzip datadrivenx/video-game-stocks-financial-market-data"
   ]
  },
  {
   "cell_type": "markdown",
   "id": "2879ff34-d411-4e0e-b561-0e74d898600f",
   "metadata": {},
   "source": [
    "---\n",
    "# Business Understanding \n",
    "\n",
    "The purpose of the following notebook is to look into patters in the stock market ragerding gaming tech companies. This is valuable to shareholders and investors as it gives insigt to the iner-workings of this specific field, and can inform a decision.\n",
    "\n",
    "- Business Objectives\n",
    "    - analize stock data to locate a trend\n",
    "- Situation Assesement\n",
    "    - resources available\n",
    "        - stock opening/closing prices, trading volume, and other relevant financial indicators\n",
    "    - resources unavailable\n",
    "        - undisclosed internal information such as :\n",
    "            - upcoming unanounced releases\n",
    "            - internal stresses that may cause unpredictable outcomes\n",
    "- Data Mining Goal\n",
    "    - assess and understand the data provided\n",
    "- Project plan\n",
    "    - produce accurate and usable metrics to inform a decision regarding stock market investments"
   ]
  },
  {
   "cell_type": "markdown",
   "id": "0b15bfa4-c1a0-4d51-b285-59134ae37c45",
   "metadata": {},
   "source": [
    "---\n",
    "# Data Understanding \n",
    "Let's take a quick look into what the data we are working with actually is. In this case, we have metadata, which is just data about the data.  \n",
    "\n",
    "## Column Metadata\n",
    "\n",
    "- Company\n",
    "    - The name of the video game company\n",
    "- Ticker Symbol\n",
    "    - The stock's unique symbol used for trading\n",
    "- Currency\n",
    "    - The currency used for the stock's price\n",
    "        - USD - United States Dollar | 1 : 1 USD\n",
    "        - JPY - Japanese Yen | 1 JPY : 0.0067 USD\n",
    "        - HKD - Hong Kong Dollar | 1 HKD : 0.13 USD\n",
    "        - SEK - Swedish Krona | 1 SEK : 0.092 USD\n",
    "- Open\n",
    "    - The stock price at market open for the given day\n",
    "- High\n",
    "    - The highest stock price during the trading day\n",
    "- Low\n",
    "    - The lowest stock price during the trading day\n",
    "- Close\n",
    "    - The stock price at market close for the given day\n",
    "- Adj Close\n",
    "    - The adjusted closing price, accounting for dividends and stock splits\n",
    "        - dividends\n",
    "            - a payment to a shareholder with additional stocks rather then money\n",
    "        - stock splits\n",
    "            - spliting owned stocks into smaller subsets, while maintaining the overall value of the stocks \n",
    "- Volume\n",
    "    - The total number of shares traded during the day\n",
    "\n",
    "## Note From Original Dataset Creator\n",
    "\n",
    "While _Epic Games_ and _MiHoYo_ are also major players in the video game industry, and would have ranked no. 7 and 10 respectively, they are privately held and do not have publicly traded stocks, so their financial data is not included in this dataset.\n",
    "\n",
    "The dataset contains monthly data for the period from January 1, 2000, to October 31, 2024. The data was extracted using the Yahoo Finance library in Python, and includes key market metrics such as stock opening/closing prices, trading volume, and other relevant financial indicators."
   ]
  },
  {
   "cell_type": "markdown",
   "id": "722095d9-002d-4903-91ac-a30f3a9ced01",
   "metadata": {},
   "source": [
    "---\n",
    "# Data Distribution"
   ]
  },
  {
   "cell_type": "markdown",
   "id": "da164319-0637-4ddb-9333-6b0bea88dd4f",
   "metadata": {},
   "source": [
    "---\n",
    "# Data Preparation"
   ]
  },
  {
   "cell_type": "markdown",
   "id": "6d767709-615b-44f1-acda-7ac89b9f92e7",
   "metadata": {},
   "source": [
    "---\n",
    "## Methodology"
   ]
  },
  {
   "cell_type": "markdown",
   "id": "5116f5cf-68b0-458a-a433-7174299d5c6a",
   "metadata": {},
   "source": [
    "---\n",
    "# Functions"
   ]
  },
  {
   "cell_type": "code",
   "execution_count": 26,
   "id": "f42af6be-9e41-41fa-8999-e2efcab98526",
   "metadata": {},
   "outputs": [],
   "source": [
    "def get_totals_open(company):\n",
    "    '''\n",
    "    This function requires what specifc company you want to get the total open values for (before conversion) \n",
    "\n",
    "    requirements : company name (obj) \n",
    "    '''\n",
    "    \n",
    "    d_frame = df[df['Company'] == company]\n",
    "    print(sum(d_frame['Open']))"
   ]
  },
  {
   "cell_type": "code",
   "execution_count": 27,
   "id": "f2dee81e-b107-4558-b34e-86e7ad87683b",
   "metadata": {},
   "outputs": [],
   "source": [
    "def get_totals_open_conv(company):\n",
    "    '''\n",
    "    This function requires what specifc company you want to get the total open values for (after conversion) \n",
    "\n",
    "    requirements : company name (obj) \n",
    "    '''\n",
    "    \n",
    "    d_frame = df[df['Company'] == company]\n",
    "    print(sum(d_frame['Open Value in USD']))"
   ]
  },
  {
   "cell_type": "markdown",
   "id": "90542ef1-0dac-43b5-80e1-74f99ae0af12",
   "metadata": {},
   "source": [
    "---\n",
    "# Exploritory Data Analysis (EDA)"
   ]
  },
  {
   "cell_type": "code",
   "execution_count": 3,
   "id": "a66f3827-62b5-4713-8cfc-e2cedcea3da8",
   "metadata": {},
   "outputs": [],
   "source": [
    "df = pd.read_csv('gaming_stocks.zip')"
   ]
  },
  {
   "cell_type": "code",
   "execution_count": 4,
   "id": "ff5e863a-8af7-4173-9533-507d0c0fca20",
   "metadata": {},
   "outputs": [
    {
     "data": {
      "text/html": [
       "<div>\n",
       "<style scoped>\n",
       "    .dataframe tbody tr th:only-of-type {\n",
       "        vertical-align: middle;\n",
       "    }\n",
       "\n",
       "    .dataframe tbody tr th {\n",
       "        vertical-align: top;\n",
       "    }\n",
       "\n",
       "    .dataframe thead th {\n",
       "        text-align: right;\n",
       "    }\n",
       "</style>\n",
       "<table border=\"1\" class=\"dataframe\">\n",
       "  <thead>\n",
       "    <tr style=\"text-align: right;\">\n",
       "      <th></th>\n",
       "      <th>Date</th>\n",
       "      <th>Company</th>\n",
       "      <th>Ticker Symbol</th>\n",
       "      <th>Currency</th>\n",
       "      <th>Open</th>\n",
       "      <th>High</th>\n",
       "      <th>Low</th>\n",
       "      <th>Close</th>\n",
       "      <th>Adj Close</th>\n",
       "      <th>Volume</th>\n",
       "    </tr>\n",
       "  </thead>\n",
       "  <tbody>\n",
       "    <tr>\n",
       "      <th>0</th>\n",
       "      <td>2000-01-01</td>\n",
       "      <td>Sony Interactive Entertainment</td>\n",
       "      <td>SONY</td>\n",
       "      <td>JPY</td>\n",
       "      <td>28.525000</td>\n",
       "      <td>29.168751</td>\n",
       "      <td>20.850000</td>\n",
       "      <td>25.299999</td>\n",
       "      <td>14.535083</td>\n",
       "      <td>147012000</td>\n",
       "    </tr>\n",
       "    <tr>\n",
       "      <th>1</th>\n",
       "      <td>2000-02-01</td>\n",
       "      <td>Sony Interactive Entertainment</td>\n",
       "      <td>SONY</td>\n",
       "      <td>JPY</td>\n",
       "      <td>25.293751</td>\n",
       "      <td>31.475000</td>\n",
       "      <td>25.000000</td>\n",
       "      <td>31.350000</td>\n",
       "      <td>18.010864</td>\n",
       "      <td>67437000</td>\n",
       "    </tr>\n",
       "    <tr>\n",
       "      <th>2</th>\n",
       "      <td>2000-03-01</td>\n",
       "      <td>Sony Interactive Entertainment</td>\n",
       "      <td>SONY</td>\n",
       "      <td>JPY</td>\n",
       "      <td>30.100000</td>\n",
       "      <td>31.299999</td>\n",
       "      <td>21.700001</td>\n",
       "      <td>28.012501</td>\n",
       "      <td>16.093437</td>\n",
       "      <td>112674000</td>\n",
       "    </tr>\n",
       "    <tr>\n",
       "      <th>3</th>\n",
       "      <td>2000-04-01</td>\n",
       "      <td>Sony Interactive Entertainment</td>\n",
       "      <td>SONY</td>\n",
       "      <td>JPY</td>\n",
       "      <td>28.250000</td>\n",
       "      <td>28.250000</td>\n",
       "      <td>22.312500</td>\n",
       "      <td>22.562500</td>\n",
       "      <td>12.974537</td>\n",
       "      <td>74071000</td>\n",
       "    </tr>\n",
       "    <tr>\n",
       "      <th>4</th>\n",
       "      <td>2000-05-01</td>\n",
       "      <td>Sony Interactive Entertainment</td>\n",
       "      <td>SONY</td>\n",
       "      <td>JPY</td>\n",
       "      <td>22.700001</td>\n",
       "      <td>23.481251</td>\n",
       "      <td>17.750000</td>\n",
       "      <td>18.237499</td>\n",
       "      <td>10.487453</td>\n",
       "      <td>65035500</td>\n",
       "    </tr>\n",
       "  </tbody>\n",
       "</table>\n",
       "</div>"
      ],
      "text/plain": [
       "         Date                         Company Ticker Symbol Currency  \\\n",
       "0  2000-01-01  Sony Interactive Entertainment          SONY      JPY   \n",
       "1  2000-02-01  Sony Interactive Entertainment          SONY      JPY   \n",
       "2  2000-03-01  Sony Interactive Entertainment          SONY      JPY   \n",
       "3  2000-04-01  Sony Interactive Entertainment          SONY      JPY   \n",
       "4  2000-05-01  Sony Interactive Entertainment          SONY      JPY   \n",
       "\n",
       "        Open       High        Low      Close  Adj Close     Volume  \n",
       "0  28.525000  29.168751  20.850000  25.299999  14.535083  147012000  \n",
       "1  25.293751  31.475000  25.000000  31.350000  18.010864   67437000  \n",
       "2  30.100000  31.299999  21.700001  28.012501  16.093437  112674000  \n",
       "3  28.250000  28.250000  22.312500  22.562500  12.974537   74071000  \n",
       "4  22.700001  23.481251  17.750000  18.237499  10.487453   65035500  "
      ]
     },
     "execution_count": 4,
     "metadata": {},
     "output_type": "execute_result"
    }
   ],
   "source": [
    "df.head()"
   ]
  },
  {
   "cell_type": "code",
   "execution_count": 5,
   "id": "db8e0568-b8e9-4292-bf9d-187e7e08162d",
   "metadata": {},
   "outputs": [
    {
     "name": "stdout",
     "output_type": "stream",
     "text": [
      "<class 'pandas.core.frame.DataFrame'>\n",
      "RangeIndex: 2209 entries, 0 to 2208\n",
      "Data columns (total 10 columns):\n",
      " #   Column         Non-Null Count  Dtype  \n",
      "---  ------         --------------  -----  \n",
      " 0   Date           2209 non-null   object \n",
      " 1   Company        2209 non-null   object \n",
      " 2   Ticker Symbol  2209 non-null   object \n",
      " 3   Currency       2209 non-null   object \n",
      " 4   Open           2209 non-null   float64\n",
      " 5   High           2209 non-null   float64\n",
      " 6   Low            2209 non-null   float64\n",
      " 7   Close          2209 non-null   float64\n",
      " 8   Adj Close      2209 non-null   float64\n",
      " 9   Volume         2209 non-null   int64  \n",
      "dtypes: float64(5), int64(1), object(4)\n",
      "memory usage: 172.7+ KB\n"
     ]
    }
   ],
   "source": [
    "df.info()"
   ]
  },
  {
   "cell_type": "code",
   "execution_count": 6,
   "id": "700f8fd7-1856-4457-a620-cc77bcc97a45",
   "metadata": {},
   "outputs": [
    {
     "data": {
      "text/plain": [
       "Company\n",
       "Sony Interactive Entertainment       298\n",
       "Microsoft Gaming                     298\n",
       "Nintendo                             298\n",
       "Electronic Arts                      298\n",
       "Take-Two Interactive                 298\n",
       "NetEase Games                        292\n",
       "Tencent Interactive Entertainment    244\n",
       "Embracer Group                        95\n",
       "Playtika                              45\n",
       "Roblox Corporation                    43\n",
       "Name: count, dtype: int64"
      ]
     },
     "execution_count": 6,
     "metadata": {},
     "output_type": "execute_result"
    }
   ],
   "source": [
    "df['Company'].value_counts()"
   ]
  },
  {
   "cell_type": "code",
   "execution_count": 7,
   "id": "1ee63d08-7f99-4478-8939-ca8b5aab74da",
   "metadata": {},
   "outputs": [
    {
     "data": {
      "text/plain": [
       "Currency\n",
       "USD    1572\n",
       "JPY     298\n",
       "HKD     244\n",
       "SEK      95\n",
       "Name: count, dtype: int64"
      ]
     },
     "execution_count": 7,
     "metadata": {},
     "output_type": "execute_result"
    }
   ],
   "source": [
    "df['Currency'].value_counts()"
   ]
  },
  {
   "cell_type": "code",
   "execution_count": 8,
   "id": "85407873-d854-4883-99b4-5db0c5c47f59",
   "metadata": {},
   "outputs": [
    {
     "data": {
      "image/png": "[encoded data removed]",
      "text/plain": [
       "<Figure size 640x480 with 1 Axes>"
      ]
     },
     "metadata": {},
     "output_type": "display_data"
    }
   ],
   "source": [
    "fig, ax = plt.subplots()\n",
    "df['Company'].value_counts().plot(kind = 'barh')\n",
    "ax.set_title('Entries Per Company')\n",
    "plt.show();"
   ]
  },
  {
   "cell_type": "markdown",
   "id": "a089b145-8cc8-49fa-89db-83ed8418e95e",
   "metadata": {},
   "source": [
    "# Open Values"
   ]
  },
  {
   "cell_type": "code",
   "execution_count": 9,
   "id": "c1236260-d98b-4e16-b194-015a3676cfa9",
   "metadata": {
    "scrolled": true
   },
   "outputs": [],
   "source": [
    "df['Open Value in USD'] = ''\n",
    "\n",
    "for ind, row in df.iterrows():\n",
    "    if row.iloc[3] == 'JPY':\n",
    "        df.loc[ind, 'Open Value in USD'] = row['Open'] * 0.0067\n",
    "    elif row.iloc[3] == 'HKD':\n",
    "        df.loc[ind, 'Open Value in USD'] = row['Open'] * 0.13\n",
    "    elif row.iloc[3] == 'SEK':\n",
    "        df.loc[ind, 'Open Value in USD'] = row['Open'] * 0.092\n",
    "    elif row.iloc[3] == 'USD':\n",
    "        df.loc[ind, 'Open Value in USD'] = row['Open']"
   ]
  },
  {
   "cell_type": "code",
   "execution_count": 10,
   "id": "f7feaa58-3dda-4666-8f53-559679f6a95b",
   "metadata": {
    "scrolled": true
   },
   "outputs": [
    {
     "data": {
      "text/html": [
       "<div>\n",
       "<style scoped>\n",
       "    .dataframe tbody tr th:only-of-type {\n",
       "        vertical-align: middle;\n",
       "    }\n",
       "\n",
       "    .dataframe tbody tr th {\n",
       "        vertical-align: top;\n",
       "    }\n",
       "\n",
       "    .dataframe thead th {\n",
       "        text-align: right;\n",
       "    }\n",
       "</style>\n",
       "<table border=\"1\" class=\"dataframe\">\n",
       "  <thead>\n",
       "    <tr style=\"text-align: right;\">\n",
       "      <th></th>\n",
       "      <th>Date</th>\n",
       "      <th>Company</th>\n",
       "      <th>Ticker Symbol</th>\n",
       "      <th>Currency</th>\n",
       "      <th>Open</th>\n",
       "      <th>High</th>\n",
       "      <th>Low</th>\n",
       "      <th>Close</th>\n",
       "      <th>Adj Close</th>\n",
       "      <th>Volume</th>\n",
       "      <th>Open Value in USD</th>\n",
       "    </tr>\n",
       "  </thead>\n",
       "  <tbody>\n",
       "    <tr>\n",
       "      <th>0</th>\n",
       "      <td>2000-01-01</td>\n",
       "      <td>Sony Interactive Entertainment</td>\n",
       "      <td>SONY</td>\n",
       "      <td>JPY</td>\n",
       "      <td>28.525000</td>\n",
       "      <td>29.168751</td>\n",
       "      <td>20.850000</td>\n",
       "      <td>25.299999</td>\n",
       "      <td>14.535083</td>\n",
       "      <td>147012000</td>\n",
       "      <td>0.191117</td>\n",
       "    </tr>\n",
       "    <tr>\n",
       "      <th>1</th>\n",
       "      <td>2000-02-01</td>\n",
       "      <td>Sony Interactive Entertainment</td>\n",
       "      <td>SONY</td>\n",
       "      <td>JPY</td>\n",
       "      <td>25.293751</td>\n",
       "      <td>31.475000</td>\n",
       "      <td>25.000000</td>\n",
       "      <td>31.350000</td>\n",
       "      <td>18.010864</td>\n",
       "      <td>67437000</td>\n",
       "      <td>0.169468</td>\n",
       "    </tr>\n",
       "    <tr>\n",
       "      <th>2</th>\n",
       "      <td>2000-03-01</td>\n",
       "      <td>Sony Interactive Entertainment</td>\n",
       "      <td>SONY</td>\n",
       "      <td>JPY</td>\n",
       "      <td>30.100000</td>\n",
       "      <td>31.299999</td>\n",
       "      <td>21.700001</td>\n",
       "      <td>28.012501</td>\n",
       "      <td>16.093437</td>\n",
       "      <td>112674000</td>\n",
       "      <td>0.20167</td>\n",
       "    </tr>\n",
       "    <tr>\n",
       "      <th>3</th>\n",
       "      <td>2000-04-01</td>\n",
       "      <td>Sony Interactive Entertainment</td>\n",
       "      <td>SONY</td>\n",
       "      <td>JPY</td>\n",
       "      <td>28.250000</td>\n",
       "      <td>28.250000</td>\n",
       "      <td>22.312500</td>\n",
       "      <td>22.562500</td>\n",
       "      <td>12.974537</td>\n",
       "      <td>74071000</td>\n",
       "      <td>0.189275</td>\n",
       "    </tr>\n",
       "    <tr>\n",
       "      <th>4</th>\n",
       "      <td>2000-05-01</td>\n",
       "      <td>Sony Interactive Entertainment</td>\n",
       "      <td>SONY</td>\n",
       "      <td>JPY</td>\n",
       "      <td>22.700001</td>\n",
       "      <td>23.481251</td>\n",
       "      <td>17.750000</td>\n",
       "      <td>18.237499</td>\n",
       "      <td>10.487453</td>\n",
       "      <td>65035500</td>\n",
       "      <td>0.15209</td>\n",
       "    </tr>\n",
       "  </tbody>\n",
       "</table>\n",
       "</div>"
      ],
      "text/plain": [
       "         Date                         Company Ticker Symbol Currency  \\\n",
       "0  2000-01-01  Sony Interactive Entertainment          SONY      JPY   \n",
       "1  2000-02-01  Sony Interactive Entertainment          SONY      JPY   \n",
       "2  2000-03-01  Sony Interactive Entertainment          SONY      JPY   \n",
       "3  2000-04-01  Sony Interactive Entertainment          SONY      JPY   \n",
       "4  2000-05-01  Sony Interactive Entertainment          SONY      JPY   \n",
       "\n",
       "        Open       High        Low      Close  Adj Close     Volume  \\\n",
       "0  28.525000  29.168751  20.850000  25.299999  14.535083  147012000   \n",
       "1  25.293751  31.475000  25.000000  31.350000  18.010864   67437000   \n",
       "2  30.100000  31.299999  21.700001  28.012501  16.093437  112674000   \n",
       "3  28.250000  28.250000  22.312500  22.562500  12.974537   74071000   \n",
       "4  22.700001  23.481251  17.750000  18.237499  10.487453   65035500   \n",
       "\n",
       "  Open Value in USD  \n",
       "0          0.191117  \n",
       "1          0.169468  \n",
       "2           0.20167  \n",
       "3          0.189275  \n",
       "4           0.15209  "
      ]
     },
     "execution_count": 10,
     "metadata": {},
     "output_type": "execute_result"
    }
   ],
   "source": [
    "df[df['Currency'] == 'JPY'].head()"
   ]
  },
  {
   "cell_type": "code",
   "execution_count": 34,
   "id": "8e395c8c-bd71-47c3-9d7e-5bf526dab7ce",
   "metadata": {},
   "outputs": [
    {
     "name": "stdout",
     "output_type": "stream",
     "text": [
      "41144.35937303305\n"
     ]
    }
   ],
   "source": [
    "get_totals_open('Tencent Interactive Entertainment')"
   ]
  },
  {
   "cell_type": "code",
   "execution_count": 29,
   "id": "5d7f9514-9990-4c31-a806-cf1c045644b3",
   "metadata": {},
   "outputs": [
    {
     "name": "stdout",
     "output_type": "stream",
     "text": [
      "26760.73865222931\n"
     ]
    }
   ],
   "source": [
    "get_totals_open('Microsoft Gaming')"
   ]
  },
  {
   "cell_type": "code",
   "execution_count": 31,
   "id": "74605cc1-a67d-4b0a-9aeb-f74a07941c6c",
   "metadata": {
    "scrolled": true
   },
   "outputs": [
    {
     "name": "stdout",
     "output_type": "stream",
     "text": [
      "18886.085459709167\n"
     ]
    }
   ],
   "source": [
    "get_totals_open('Electronic Arts')"
   ]
  },
  {
   "cell_type": "code",
   "execution_count": 32,
   "id": "729ac201-3be3-4667-861d-ea4482505cab",
   "metadata": {},
   "outputs": [
    {
     "name": "stdout",
     "output_type": "stream",
     "text": [
      "15885.676261425018\n"
     ]
    }
   ],
   "source": [
    "get_totals_open('Take-Two Interactive')"
   ]
  },
  {
   "cell_type": "code",
   "execution_count": 33,
   "id": "60c5b245-365b-4633-bb25-1bb7a0866bb0",
   "metadata": {},
   "outputs": [
    {
     "name": "stdout",
     "output_type": "stream",
     "text": [
      "9021.176662750542\n"
     ]
    }
   ],
   "source": [
    "get_totals_open('NetEase Games')"
   ]
  },
  {
   "cell_type": "code",
   "execution_count": 35,
   "id": "3b495d19-6af4-4649-a233-bb2234c4057a",
   "metadata": {},
   "outputs": [
    {
     "name": "stdout",
     "output_type": "stream",
     "text": [
      "4455.816321372986\n"
     ]
    }
   ],
   "source": [
    "get_totals_open('Embracer Group')"
   ]
  },
  {
   "cell_type": "code",
   "execution_count": 28,
   "id": "b814d8a8-1e1f-4c27-9720-f9b18820c914",
   "metadata": {},
   "outputs": [
    {
     "name": "stdout",
     "output_type": "stream",
     "text": [
      "2931.3857514858246\n"
     ]
    }
   ],
   "source": [
    "get_totals_open('Sony Interactive Entertainment')"
   ]
  },
  {
   "cell_type": "code",
   "execution_count": 37,
   "id": "c1eac915-5d79-493e-a10c-b2118cef9160",
   "metadata": {},
   "outputs": [
    {
     "name": "stdout",
     "output_type": "stream",
     "text": [
      "2156.550006866455\n"
     ]
    }
   ],
   "source": [
    "get_totals_open('Roblox Corporation')"
   ]
  },
  {
   "cell_type": "code",
   "execution_count": 30,
   "id": "05675613-cb23-4731-8613-1f643a2917f0",
   "metadata": {},
   "outputs": [
    {
     "name": "stdout",
     "output_type": "stream",
     "text": [
      "1986.322623848915\n"
     ]
    }
   ],
   "source": [
    "get_totals_open('Nintendo')"
   ]
  },
  {
   "cell_type": "code",
   "execution_count": 36,
   "id": "0290591a-f49d-425b-8ccc-a3f1eb246081",
   "metadata": {},
   "outputs": [
    {
     "name": "stdout",
     "output_type": "stream",
     "text": [
      "657.7599992752075\n"
     ]
    }
   ],
   "source": [
    "get_totals_open('Playtika')"
   ]
  },
  {
   "cell_type": "code",
   "execution_count": 53,
   "id": "6d98279e-1da8-4066-9145-4a42383c10cb",
   "metadata": {},
   "outputs": [
    {
     "data": {
      "image/png": "[encoded data removed]",
      "text/plain": [
       "<Figure size 640x480 with 1 Axes>"
      ]
     },
     "metadata": {},
     "output_type": "display_data"
    }
   ],
   "source": [
    "fig, ax = plt.subplots()\n",
    "\n",
    "height = [41114, 26760, 18886, 15885, 9021, 4455, 2931, 2156, 1986, 657]\n",
    "x = range(10)\n",
    "labels = ['Tencent Interactive Entertainment','Microsoft Gaming','Electronic Arts','Take-Two Interactive','NetEase Games','Embracer Group', \n",
    "     'Sony Interactive Entertainment', 'Roblox Corporation','Nintendo', 'Playtika']\n",
    "plt.barh(x, height, tick_label = labels)\n",
    "ax.set_title('Open Values Before Conversion to USD')\n",
    "ax.set_xlabel('Open Values (in respective currencies)')\n",
    "plt.show();"
   ]
  },
  {
   "cell_type": "code",
   "execution_count": 55,
   "id": "50d22b30-7bb7-4e58-b933-159d51e3a5bc",
   "metadata": {},
   "outputs": [
    {
     "name": "stdout",
     "output_type": "stream",
     "text": [
      "26760.73865222931\n"
     ]
    }
   ],
   "source": [
    "get_totals_open_conv('Microsoft Gaming')"
   ]
  },
  {
   "cell_type": "code",
   "execution_count": 56,
   "id": "5cea19a2-134f-4505-9662-831aaf4215a6",
   "metadata": {},
   "outputs": [
    {
     "name": "stdout",
     "output_type": "stream",
     "text": [
      "18886.085459709167\n"
     ]
    }
   ],
   "source": [
    "get_totals_open_conv('Electronic Arts')"
   ]
  },
  {
   "cell_type": "code",
   "execution_count": 57,
   "id": "df6eeb96-b43f-4a09-abaf-cd7c84d878fc",
   "metadata": {},
   "outputs": [
    {
     "name": "stdout",
     "output_type": "stream",
     "text": [
      "15885.676261425018\n"
     ]
    }
   ],
   "source": [
    "get_totals_open_conv('Take-Two Interactive')"
   ]
  },
  {
   "cell_type": "code",
   "execution_count": 58,
   "id": "0b3ac200-2fd0-41b8-868c-c9a466ccb7a4",
   "metadata": {},
   "outputs": [
    {
     "name": "stdout",
     "output_type": "stream",
     "text": [
      "9021.176662750542\n"
     ]
    }
   ],
   "source": [
    "get_totals_open_conv('NetEase Games')"
   ]
  },
  {
   "cell_type": "code",
   "execution_count": 54,
   "id": "508343fb-e51d-481d-8452-53bac64e6efa",
   "metadata": {},
   "outputs": [
    {
     "name": "stdout",
     "output_type": "stream",
     "text": [
      "5348.766718494297\n"
     ]
    }
   ],
   "source": [
    "get_totals_open_conv('Tencent Interactive Entertainment')"
   ]
  },
  {
   "cell_type": "code",
   "execution_count": 61,
   "id": "77c87407-df78-4029-85ae-05b7fdf7c412",
   "metadata": {},
   "outputs": [
    {
     "name": "stdout",
     "output_type": "stream",
     "text": [
      "2156.550006866455\n"
     ]
    }
   ],
   "source": [
    "get_totals_open_conv('Roblox Corporation')"
   ]
  },
  {
   "cell_type": "code",
   "execution_count": 62,
   "id": "8e58bfda-a85b-41c7-b587-866a31c59577",
   "metadata": {},
   "outputs": [
    {
     "name": "stdout",
     "output_type": "stream",
     "text": [
      "1986.322623848915\n"
     ]
    }
   ],
   "source": [
    "get_totals_open_conv('Nintendo')"
   ]
  },
  {
   "cell_type": "code",
   "execution_count": 63,
   "id": "bffba42d-f3db-419b-afc9-d4609c611c58",
   "metadata": {},
   "outputs": [
    {
     "name": "stdout",
     "output_type": "stream",
     "text": [
      "657.7599992752075\n"
     ]
    }
   ],
   "source": [
    "get_totals_open_conv('Playtika')"
   ]
  },
  {
   "cell_type": "code",
   "execution_count": 59,
   "id": "6a9e7349-d1a9-4a3a-91cf-48f2137ff7d5",
   "metadata": {},
   "outputs": [
    {
     "name": "stdout",
     "output_type": "stream",
     "text": [
      "409.9351015663147\n"
     ]
    }
   ],
   "source": [
    "get_totals_open_conv('Embracer Group')"
   ]
  },
  {
   "cell_type": "code",
   "execution_count": 60,
   "id": "c75cd7c1-d28e-4d9e-9eb6-b4d52e570121",
   "metadata": {},
   "outputs": [
    {
     "name": "stdout",
     "output_type": "stream",
     "text": [
      "19.640284534955025\n"
     ]
    }
   ],
   "source": [
    "get_totals_open_conv('Sony Interactive Entertainment')"
   ]
  },
  {
   "cell_type": "code",
   "execution_count": 64,
   "id": "d2d2d6aa-59bd-419c-a6da-59116b67726a",
   "metadata": {},
   "outputs": [
    {
     "data": {
      "image/png": "[encoded data removed]",
      "text/plain": [
       "<Figure size 640x480 with 1 Axes>"
      ]
     },
     "metadata": {},
     "output_type": "display_data"
    }
   ],
   "source": [
    "fig, ax = plt.subplots()\n",
    "\n",
    "height = [26760, 18886, 15885, 9021, 5348, 2156, 1986, 657, 409, 19]\n",
    "x = range(10)\n",
    "labels = ['Microsoft Gaming', 'Electronic Arts', 'Take-Two Interactive', 'NetEase Games', 'Tencent Interactive Entertainment', \n",
    "          'Roblox Corporation', 'Nintendo', 'Playtika', 'Embracer Group', 'Sony Interactive Entertainment']\n",
    "plt.barh(x, height, tick_label = labels)\n",
    "ax.set_title('Open Values After Conversion to USD')\n",
    "ax.set_xlabel('Open Values (in USD)')\n",
    "plt.show();"
   ]
  },
  {
   "cell_type": "code",
   "execution_count": 13,
   "id": "3858b89a-9787-49f2-b810-bd4212f64ebc",
   "metadata": {},
   "outputs": [
    {
     "data": {
      "image/png": "[encoded data removed]",
      "text/plain": [
       "<Figure size 640x480 with 1 Axes>"
      ]
     },
     "metadata": {},
     "output_type": "display_data"
    }
   ],
   "source": [
    "df['Date'] = pd.to_datetime(df['Date'])\n",
    "df['year'] = df['Date'].dt.year\n",
    "entries_per_year = df.groupby('year').size()\n",
    "\n",
    "fig, ax = plt.subplots()\n",
    "\n",
    "ax.set_title('Entries per Year')\n",
    "ax.set_ylabel('Entries')\n",
    "avg = sum(entries_per_year) / len(entries_per_year)\n",
    "ax.axhline(avg, color = 'r')\n",
    "entries_per_year.plot(kind = 'bar')\n",
    "plt.legend(['Average'])\n",
    "plt.show();"
   ]
  },
  {
   "cell_type": "code",
   "execution_count": 14,
   "id": "b1153688-d3fb-4646-9886-337571ddaf73",
   "metadata": {},
   "outputs": [
    {
     "name": "stdout",
     "output_type": "stream",
     "text": [
      "88.36\n"
     ]
    }
   ],
   "source": [
    "print(avg)"
   ]
  },
  {
   "cell_type": "code",
   "execution_count": 15,
   "id": "c17bb3b0-4968-4864-9f4c-a50455b15e18",
   "metadata": {},
   "outputs": [
    {
     "data": {
      "image/png": "[encoded data removed]",
      "text/plain": [
       "<Figure size 640x480 with 1 Axes>"
      ]
     },
     "metadata": {},
     "output_type": "display_data"
    }
   ],
   "source": [
    "df_micro = df[df['Company'] == 'Microsoft Gaming']\n",
    "\n",
    "fig, ax = plt.subplots()\n",
    "\n",
    "x = df_micro['year']\n",
    "y = df_micro['Volume']\n",
    "ax.set_title('Microsoft Gaming Volume by year')\n",
    "\n",
    "ax.get_yaxis().set_major_formatter(\n",
    "    plt.FuncFormatter(lambda x, p: format(int(x), ','))) # format labels\n",
    "ax.bar(x, y)\n",
    "plt.show();"
   ]
  },
  {
   "cell_type": "markdown",
   "id": "caa5a11a-137d-4846-afdf-89cddfb81cce",
   "metadata": {},
   "source": [
    "df['Open Value in USD'] = ''\n",
    "\n",
    "for ind, row in df.iterrows():\n",
    "    if row.iloc[3] == 'JPY':\n",
    "        df.loc[ind, 'Open Value in USD'] = row['Open'] * 0.0067\n",
    "    elif row.iloc[3] == 'HKD':\n",
    "        df.loc[ind, 'Open Value in USD'] = row['Open'] * 0.13\n",
    "    elif row.iloc[3] == 'SEK':\n",
    "        df.loc[ind, 'Open Value in USD'] = row['Open'] * 0.092\n",
    "    elif row.iloc[3] == 'USD':\n",
    "        df.loc[ind, 'Open Value in USD'] = row['Open']"
   ]
  },
  {
   "cell_type": "code",
   "execution_count": 16,
   "id": "ef3fc7d0-950b-46c4-9eae-fe884a228fcd",
   "metadata": {},
   "outputs": [
    {
     "data": {
      "text/html": [
       "<div>\n",
       "<style scoped>\n",
       "    .dataframe tbody tr th:only-of-type {\n",
       "        vertical-align: middle;\n",
       "    }\n",
       "\n",
       "    .dataframe tbody tr th {\n",
       "        vertical-align: top;\n",
       "    }\n",
       "\n",
       "    .dataframe thead th {\n",
       "        text-align: right;\n",
       "    }\n",
       "</style>\n",
       "<table border=\"1\" class=\"dataframe\">\n",
       "  <thead>\n",
       "    <tr style=\"text-align: right;\">\n",
       "      <th></th>\n",
       "      <th>Date</th>\n",
       "      <th>Company</th>\n",
       "      <th>Ticker Symbol</th>\n",
       "      <th>Currency</th>\n",
       "      <th>Open</th>\n",
       "      <th>High</th>\n",
       "      <th>Low</th>\n",
       "      <th>Close</th>\n",
       "      <th>Adj Close</th>\n",
       "      <th>Volume</th>\n",
       "      <th>Open Value in USD</th>\n",
       "      <th>year</th>\n",
       "    </tr>\n",
       "  </thead>\n",
       "  <tbody>\n",
       "    <tr>\n",
       "      <th>542</th>\n",
       "      <td>2000-01-01</td>\n",
       "      <td>Microsoft Gaming</td>\n",
       "      <td>MSFT</td>\n",
       "      <td>USD</td>\n",
       "      <td>58.68750</td>\n",
       "      <td>59.3125</td>\n",
       "      <td>47.43750</td>\n",
       "      <td>48.93750</td>\n",
       "      <td>30.174570</td>\n",
       "      <td>1274875200</td>\n",
       "      <td>58.6875</td>\n",
       "      <td>2000</td>\n",
       "    </tr>\n",
       "    <tr>\n",
       "      <th>543</th>\n",
       "      <td>2000-02-01</td>\n",
       "      <td>Microsoft Gaming</td>\n",
       "      <td>MSFT</td>\n",
       "      <td>USD</td>\n",
       "      <td>49.25000</td>\n",
       "      <td>55.0000</td>\n",
       "      <td>44.06250</td>\n",
       "      <td>44.68750</td>\n",
       "      <td>27.554047</td>\n",
       "      <td>1334487600</td>\n",
       "      <td>49.25</td>\n",
       "      <td>2000</td>\n",
       "    </tr>\n",
       "    <tr>\n",
       "      <th>544</th>\n",
       "      <td>2000-03-01</td>\n",
       "      <td>Microsoft Gaming</td>\n",
       "      <td>MSFT</td>\n",
       "      <td>USD</td>\n",
       "      <td>44.81250</td>\n",
       "      <td>57.5000</td>\n",
       "      <td>44.46875</td>\n",
       "      <td>53.12500</td>\n",
       "      <td>32.756535</td>\n",
       "      <td>2028187600</td>\n",
       "      <td>44.8125</td>\n",
       "      <td>2000</td>\n",
       "    </tr>\n",
       "    <tr>\n",
       "      <th>545</th>\n",
       "      <td>2000-04-01</td>\n",
       "      <td>Microsoft Gaming</td>\n",
       "      <td>MSFT</td>\n",
       "      <td>USD</td>\n",
       "      <td>47.21875</td>\n",
       "      <td>48.2500</td>\n",
       "      <td>32.50000</td>\n",
       "      <td>34.87500</td>\n",
       "      <td>21.503712</td>\n",
       "      <td>2258146600</td>\n",
       "      <td>47.21875</td>\n",
       "      <td>2000</td>\n",
       "    </tr>\n",
       "    <tr>\n",
       "      <th>546</th>\n",
       "      <td>2000-05-01</td>\n",
       "      <td>Microsoft Gaming</td>\n",
       "      <td>MSFT</td>\n",
       "      <td>USD</td>\n",
       "      <td>36.43750</td>\n",
       "      <td>37.0000</td>\n",
       "      <td>30.18750</td>\n",
       "      <td>31.28125</td>\n",
       "      <td>19.287834</td>\n",
       "      <td>1344430800</td>\n",
       "      <td>36.4375</td>\n",
       "      <td>2000</td>\n",
       "    </tr>\n",
       "  </tbody>\n",
       "</table>\n",
       "</div>"
      ],
      "text/plain": [
       "          Date           Company Ticker Symbol Currency      Open     High  \\\n",
       "542 2000-01-01  Microsoft Gaming          MSFT      USD  58.68750  59.3125   \n",
       "543 2000-02-01  Microsoft Gaming          MSFT      USD  49.25000  55.0000   \n",
       "544 2000-03-01  Microsoft Gaming          MSFT      USD  44.81250  57.5000   \n",
       "545 2000-04-01  Microsoft Gaming          MSFT      USD  47.21875  48.2500   \n",
       "546 2000-05-01  Microsoft Gaming          MSFT      USD  36.43750  37.0000   \n",
       "\n",
       "          Low     Close  Adj Close      Volume Open Value in USD  year  \n",
       "542  47.43750  48.93750  30.174570  1274875200           58.6875  2000  \n",
       "543  44.06250  44.68750  27.554047  1334487600             49.25  2000  \n",
       "544  44.46875  53.12500  32.756535  2028187600           44.8125  2000  \n",
       "545  32.50000  34.87500  21.503712  2258146600          47.21875  2000  \n",
       "546  30.18750  31.28125  19.287834  1344430800           36.4375  2000  "
      ]
     },
     "execution_count": 16,
     "metadata": {},
     "output_type": "execute_result"
    }
   ],
   "source": [
    "df_micro.head()"
   ]
  },
  {
   "cell_type": "code",
   "execution_count": null,
   "id": "750fffc4-3b57-4c28-9b46-eef75405dd7b",
   "metadata": {},
   "outputs": [],
   "source": []
  }
 ],
 "metadata": {
  "kernelspec": {
   "display_name": "Python 3 (ipykernel)",
   "language": "python",
   "name": "python3"
  },
  "language_info": {
   "codemirror_mode": {
    "name": "ipython",
    "version": 3
   },
   "file_extension": ".py",
   "mimetype": "text/x-python",
   "name": "python",
   "nbconvert_exporter": "python",
   "pygments_lexer": "ipython3",
   "version": "3.12.3"
  }
 },
 "nbformat": 4,
 "nbformat_minor": 5
}
