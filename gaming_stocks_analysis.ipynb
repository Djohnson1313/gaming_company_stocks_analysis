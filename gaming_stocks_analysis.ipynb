{
 "cells": [
  {
   "cell_type": "markdown",
   "id": "60d29299-e482-4cc8-a1a7-42d5682051ad",
   "metadata": {},
   "source": [
    "# Gaming Stocks Analysis\n",
    "---"
   ]
  },
  {
   "cell_type": "markdown",
   "id": "3c412068-d70c-40a4-8de4-0d82544b8e61",
   "metadata": {},
   "source": [
    "## Author Information\n",
    "\n",
    "Name : Darryn Johnson\n",
    "\n",
    "Date last updated : 11/28/2024"
   ]
  },
  {
   "cell_type": "markdown",
   "id": "e6b1837c-a9ef-44ab-878f-2a7173e166ca",
   "metadata": {},
   "source": [
    "---\n",
    "## Sources and Links\n",
    "\n",
    "Original Kaggle dataset : [Video Game Stocks: Financial Market Data](https://www.kaggle.com/datasets/datadrivenx/video-game-stocks-financial-market-data)"
   ]
  },
  {
   "cell_type": "markdown",
   "id": "41cbfe2a-38e7-4ac3-beec-6e2821dd6862",
   "metadata": {},
   "source": [
    "---\n",
    "# Overview"
   ]
  },
  {
   "cell_type": "markdown",
   "id": "a50ed59d-ddd4-4e7e-b41f-dba27213452b",
   "metadata": {},
   "source": [
    "---\n",
    "# Imports"
   ]
  },
  {
   "cell_type": "code",
   "execution_count": 1,
   "id": "41945f9f-00f4-4490-aabd-a631ef3ef9b7",
   "metadata": {},
   "outputs": [],
   "source": [
    "import pandas as pd\n",
    "import numpy as np\n",
    "import matplotlib.pyplot as plt"
   ]
  },
  {
   "cell_type": "markdown",
   "id": "2452f8c1-2ac6-43d0-ac33-bd7bdb315927",
   "metadata": {},
   "source": [
    "---\n",
    "# Reproducability\n",
    "\n",
    "To reproduce these results yourself, open google colab and locate this github repo under my github account. From there, simply run the notebook from start to finish."
   ]
  },
  {
   "cell_type": "code",
   "execution_count": 2,
   "id": "f2753a4d-cc7b-449a-a643-f1e26823a6f8",
   "metadata": {},
   "outputs": [],
   "source": [
    "# !kaggle datasets download -d datadrivenx/video-game-stocks-financial-market-data\n",
    "# !unzip datadrivenx/video-game-stocks-financial-market-data"
   ]
  },
  {
   "cell_type": "markdown",
   "id": "2879ff34-d411-4e0e-b561-0e74d898600f",
   "metadata": {},
   "source": [
    "---\n",
    "# Business Understanding \n",
    "\n",
    "The purpose of the following notebook is to look into patters in the stock market ragerding gaming tech companies. This is valuable to shareholders and investors as it gives insigt to the iner-workings of this specific field, and can inform a decision.\n",
    "\n",
    "- Business Objectives\n",
    "    - analize stock data to locate a trend\n",
    "- Situation Assesement\n",
    "    - resources available\n",
    "        - stock opening/closing prices, trading volume, and other relevant financial indicators\n",
    "    - resources unavailable\n",
    "        - undisclosed internal information such as :\n",
    "            - upcoming unanounced releases\n",
    "            - internal stresses that may cause unpredictable outcomes\n",
    "- Data Mining Goal\n",
    "    - assess and understand the data provided\n",
    "- Project plan\n",
    "    - produce accurate and usable metrics to inform a decision regarding stock market investments"
   ]
  },
  {
   "cell_type": "markdown",
   "id": "0b15bfa4-c1a0-4d51-b285-59134ae37c45",
   "metadata": {},
   "source": [
    "---\n",
    "# Data Understanding \n",
    "Let's take a quick look into what the data we are working with actually is. In this case, we have metadata, which is just data about the data.  \n",
    "\n",
    "## Column Metadata\n",
    "\n",
    "- Company\n",
    "    - The name of the video game company\n",
    "- Ticker Symbol\n",
    "    - The stock's unique symbol used for trading\n",
    "- Currency\n",
    "    - The currency used for the stock's price\n",
    "        - USD - United States Dollar | 1 : 1 USD\n",
    "        - JPY - Japanese Yen | 1 JPY : 0.0067 USD\n",
    "        - HKD - Hong Kong Dollar | 1 HKD : 0.13 USD\n",
    "        - SEK - Swedish Krona | 1 SEK : 0.092 USD\n",
    "- Open\n",
    "    - The stock price at market open for the given day\n",
    "- High\n",
    "    - The highest stock price during the trading day\n",
    "- Low\n",
    "    - The lowest stock price during the trading day\n",
    "- Close\n",
    "    - The stock price at market close for the given day\n",
    "- Adj Close\n",
    "    - The adjusted closing price, accounting for dividends and stock splits\n",
    "- Volume\n",
    "    - The total number of shares traded during the day\n",
    "\n",
    "## Note From Original Dataset Creator\n",
    "\n",
    "While _Epic Games_ and _MiHoYo_ are also major players in the video game industry, and would have ranked no. 7 and 10 respectively, they are privately held and do not have publicly traded stocks, so their financial data is not included in this dataset.\n",
    "\n",
    "The dataset contains monthly data for the period from January 1, 2000, to October 31, 2024. The data was extracted using the Yahoo Finance library in Python, and includes key market metrics such as stock opening/closing prices, trading volume, and other relevant financial indicators."
   ]
  },
  {
   "cell_type": "markdown",
   "id": "722095d9-002d-4903-91ac-a30f3a9ced01",
   "metadata": {},
   "source": [
    "---\n",
    "# Data Distribution"
   ]
  },
  {
   "cell_type": "markdown",
   "id": "da164319-0637-4ddb-9333-6b0bea88dd4f",
   "metadata": {},
   "source": [
    "---\n",
    "# Data Preparation"
   ]
  },
  {
   "cell_type": "markdown",
   "id": "6d767709-615b-44f1-acda-7ac89b9f92e7",
   "metadata": {},
   "source": [
    "---\n",
    "## Methodology"
   ]
  },
  {
   "cell_type": "markdown",
   "id": "5116f5cf-68b0-458a-a433-7174299d5c6a",
   "metadata": {},
   "source": [
    "---\n",
    "# Functions"
   ]
  },
  {
   "cell_type": "code",
   "execution_count": 3,
   "id": "18ccbe00-92a0-463d-b1bf-4ab065698349",
   "metadata": {},
   "outputs": [],
   "source": [
    "# Function to convert to usd"
   ]
  },
  {
   "cell_type": "markdown",
   "id": "90542ef1-0dac-43b5-80e1-74f99ae0af12",
   "metadata": {},
   "source": [
    "---\n",
    "# Exploritory Data Analysis (EDA)"
   ]
  },
  {
   "cell_type": "code",
   "execution_count": 4,
   "id": "a66f3827-62b5-4713-8cfc-e2cedcea3da8",
   "metadata": {},
   "outputs": [],
   "source": [
    "df = pd.read_csv('gaming_stocks.zip')"
   ]
  },
  {
   "cell_type": "code",
   "execution_count": 5,
   "id": "ff5e863a-8af7-4173-9533-507d0c0fca20",
   "metadata": {},
   "outputs": [
    {
     "data": {
      "text/html": [
       "<div>\n",
       "<style scoped>\n",
       "    .dataframe tbody tr th:only-of-type {\n",
       "        vertical-align: middle;\n",
       "    }\n",
       "\n",
       "    .dataframe tbody tr th {\n",
       "        vertical-align: top;\n",
       "    }\n",
       "\n",
       "    .dataframe thead th {\n",
       "        text-align: right;\n",
       "    }\n",
       "</style>\n",
       "<table border=\"1\" class=\"dataframe\">\n",
       "  <thead>\n",
       "    <tr style=\"text-align: right;\">\n",
       "      <th></th>\n",
       "      <th>Date</th>\n",
       "      <th>Company</th>\n",
       "      <th>Ticker Symbol</th>\n",
       "      <th>Currency</th>\n",
       "      <th>Open</th>\n",
       "      <th>High</th>\n",
       "      <th>Low</th>\n",
       "      <th>Close</th>\n",
       "      <th>Adj Close</th>\n",
       "      <th>Volume</th>\n",
       "    </tr>\n",
       "  </thead>\n",
       "  <tbody>\n",
       "    <tr>\n",
       "      <th>0</th>\n",
       "      <td>2000-01-01</td>\n",
       "      <td>Sony Interactive Entertainment</td>\n",
       "      <td>SONY</td>\n",
       "      <td>JPY</td>\n",
       "      <td>28.525000</td>\n",
       "      <td>29.168751</td>\n",
       "      <td>20.850000</td>\n",
       "      <td>25.299999</td>\n",
       "      <td>14.535083</td>\n",
       "      <td>147012000</td>\n",
       "    </tr>\n",
       "    <tr>\n",
       "      <th>1</th>\n",
       "      <td>2000-02-01</td>\n",
       "      <td>Sony Interactive Entertainment</td>\n",
       "      <td>SONY</td>\n",
       "      <td>JPY</td>\n",
       "      <td>25.293751</td>\n",
       "      <td>31.475000</td>\n",
       "      <td>25.000000</td>\n",
       "      <td>31.350000</td>\n",
       "      <td>18.010864</td>\n",
       "      <td>67437000</td>\n",
       "    </tr>\n",
       "    <tr>\n",
       "      <th>2</th>\n",
       "      <td>2000-03-01</td>\n",
       "      <td>Sony Interactive Entertainment</td>\n",
       "      <td>SONY</td>\n",
       "      <td>JPY</td>\n",
       "      <td>30.100000</td>\n",
       "      <td>31.299999</td>\n",
       "      <td>21.700001</td>\n",
       "      <td>28.012501</td>\n",
       "      <td>16.093437</td>\n",
       "      <td>112674000</td>\n",
       "    </tr>\n",
       "    <tr>\n",
       "      <th>3</th>\n",
       "      <td>2000-04-01</td>\n",
       "      <td>Sony Interactive Entertainment</td>\n",
       "      <td>SONY</td>\n",
       "      <td>JPY</td>\n",
       "      <td>28.250000</td>\n",
       "      <td>28.250000</td>\n",
       "      <td>22.312500</td>\n",
       "      <td>22.562500</td>\n",
       "      <td>12.974537</td>\n",
       "      <td>74071000</td>\n",
       "    </tr>\n",
       "    <tr>\n",
       "      <th>4</th>\n",
       "      <td>2000-05-01</td>\n",
       "      <td>Sony Interactive Entertainment</td>\n",
       "      <td>SONY</td>\n",
       "      <td>JPY</td>\n",
       "      <td>22.700001</td>\n",
       "      <td>23.481251</td>\n",
       "      <td>17.750000</td>\n",
       "      <td>18.237499</td>\n",
       "      <td>10.487453</td>\n",
       "      <td>65035500</td>\n",
       "    </tr>\n",
       "  </tbody>\n",
       "</table>\n",
       "</div>"
      ],
      "text/plain": [
       "         Date                         Company Ticker Symbol Currency  \\\n",
       "0  2000-01-01  Sony Interactive Entertainment          SONY      JPY   \n",
       "1  2000-02-01  Sony Interactive Entertainment          SONY      JPY   \n",
       "2  2000-03-01  Sony Interactive Entertainment          SONY      JPY   \n",
       "3  2000-04-01  Sony Interactive Entertainment          SONY      JPY   \n",
       "4  2000-05-01  Sony Interactive Entertainment          SONY      JPY   \n",
       "\n",
       "        Open       High        Low      Close  Adj Close     Volume  \n",
       "0  28.525000  29.168751  20.850000  25.299999  14.535083  147012000  \n",
       "1  25.293751  31.475000  25.000000  31.350000  18.010864   67437000  \n",
       "2  30.100000  31.299999  21.700001  28.012501  16.093437  112674000  \n",
       "3  28.250000  28.250000  22.312500  22.562500  12.974537   74071000  \n",
       "4  22.700001  23.481251  17.750000  18.237499  10.487453   65035500  "
      ]
     },
     "execution_count": 5,
     "metadata": {},
     "output_type": "execute_result"
    }
   ],
   "source": [
    "df.head()"
   ]
  },
  {
   "cell_type": "code",
   "execution_count": 6,
   "id": "db8e0568-b8e9-4292-bf9d-187e7e08162d",
   "metadata": {},
   "outputs": [
    {
     "name": "stdout",
     "output_type": "stream",
     "text": [
      "<class 'pandas.core.frame.DataFrame'>\n",
      "RangeIndex: 2209 entries, 0 to 2208\n",
      "Data columns (total 10 columns):\n",
      " #   Column         Non-Null Count  Dtype  \n",
      "---  ------         --------------  -----  \n",
      " 0   Date           2209 non-null   object \n",
      " 1   Company        2209 non-null   object \n",
      " 2   Ticker Symbol  2209 non-null   object \n",
      " 3   Currency       2209 non-null   object \n",
      " 4   Open           2209 non-null   float64\n",
      " 5   High           2209 non-null   float64\n",
      " 6   Low            2209 non-null   float64\n",
      " 7   Close          2209 non-null   float64\n",
      " 8   Adj Close      2209 non-null   float64\n",
      " 9   Volume         2209 non-null   int64  \n",
      "dtypes: float64(5), int64(1), object(4)\n",
      "memory usage: 172.7+ KB\n"
     ]
    }
   ],
   "source": [
    "df.info()"
   ]
  },
  {
   "cell_type": "code",
   "execution_count": 7,
   "id": "700f8fd7-1856-4457-a620-cc77bcc97a45",
   "metadata": {},
   "outputs": [
    {
     "data": {
      "text/plain": [
       "Company\n",
       "Sony Interactive Entertainment       298\n",
       "Microsoft Gaming                     298\n",
       "Nintendo                             298\n",
       "Electronic Arts                      298\n",
       "Take-Two Interactive                 298\n",
       "NetEase Games                        292\n",
       "Tencent Interactive Entertainment    244\n",
       "Embracer Group                        95\n",
       "Playtika                              45\n",
       "Roblox Corporation                    43\n",
       "Name: count, dtype: int64"
      ]
     },
     "execution_count": 7,
     "metadata": {},
     "output_type": "execute_result"
    }
   ],
   "source": [
    "df['Company'].value_counts()"
   ]
  },
  {
   "cell_type": "code",
   "execution_count": 8,
   "id": "1ee63d08-7f99-4478-8939-ca8b5aab74da",
   "metadata": {},
   "outputs": [
    {
     "data": {
      "text/plain": [
       "Currency\n",
       "USD    1572\n",
       "JPY     298\n",
       "HKD     244\n",
       "SEK      95\n",
       "Name: count, dtype: int64"
      ]
     },
     "execution_count": 8,
     "metadata": {},
     "output_type": "execute_result"
    }
   ],
   "source": [
    "df['Currency'].value_counts()"
   ]
  },
  {
   "cell_type": "code",
   "execution_count": 9,
   "id": "85407873-d854-4883-99b4-5db0c5c47f59",
   "metadata": {},
   "outputs": [
    {
     "data": {
      "image/png": "[encoded data removed]",
      "text/plain": [
       "<Figure size 640x480 with 1 Axes>"
      ]
     },
     "metadata": {},
     "output_type": "display_data"
    }
   ],
   "source": [
    "fig, ax = plt.subplots()\n",
    "df['Company'].value_counts().plot(kind = 'barh')\n",
    "ax.set_title('Entries Per Company')\n",
    "plt.show();"
   ]
  },
  {
   "cell_type": "code",
   "execution_count": 10,
   "id": "c1236260-d98b-4e16-b194-015a3676cfa9",
   "metadata": {
    "scrolled": true
   },
   "outputs": [],
   "source": [
    "df['c'] = ''\n",
    "\n",
    "for ind, row in df.iterrows():\n",
    "    if row.iloc[3] == 'JPY':\n",
    "        df['c'] = row['Open'] * 0.0067"
   ]
  },
  {
   "cell_type": "code",
   "execution_count": 11,
   "id": "f7feaa58-3dda-4666-8f53-559679f6a95b",
   "metadata": {},
   "outputs": [
    {
     "data": {
      "text/html": [
       "<div>\n",
       "<style scoped>\n",
       "    .dataframe tbody tr th:only-of-type {\n",
       "        vertical-align: middle;\n",
       "    }\n",
       "\n",
       "    .dataframe tbody tr th {\n",
       "        vertical-align: top;\n",
       "    }\n",
       "\n",
       "    .dataframe thead th {\n",
       "        text-align: right;\n",
       "    }\n",
       "</style>\n",
       "<table border=\"1\" class=\"dataframe\">\n",
       "  <thead>\n",
       "    <tr style=\"text-align: right;\">\n",
       "      <th></th>\n",
       "      <th>Date</th>\n",
       "      <th>Company</th>\n",
       "      <th>Ticker Symbol</th>\n",
       "      <th>Currency</th>\n",
       "      <th>Open</th>\n",
       "      <th>High</th>\n",
       "      <th>Low</th>\n",
       "      <th>Close</th>\n",
       "      <th>Adj Close</th>\n",
       "      <th>Volume</th>\n",
       "      <th>c</th>\n",
       "    </tr>\n",
       "  </thead>\n",
       "  <tbody>\n",
       "    <tr>\n",
       "      <th>542</th>\n",
       "      <td>2000-01-01</td>\n",
       "      <td>Microsoft Gaming</td>\n",
       "      <td>MSFT</td>\n",
       "      <td>USD</td>\n",
       "      <td>58.68750</td>\n",
       "      <td>59.3125</td>\n",
       "      <td>47.43750</td>\n",
       "      <td>48.93750</td>\n",
       "      <td>30.174570</td>\n",
       "      <td>1274875200</td>\n",
       "      <td>0.129819</td>\n",
       "    </tr>\n",
       "    <tr>\n",
       "      <th>543</th>\n",
       "      <td>2000-02-01</td>\n",
       "      <td>Microsoft Gaming</td>\n",
       "      <td>MSFT</td>\n",
       "      <td>USD</td>\n",
       "      <td>49.25000</td>\n",
       "      <td>55.0000</td>\n",
       "      <td>44.06250</td>\n",
       "      <td>44.68750</td>\n",
       "      <td>27.554047</td>\n",
       "      <td>1334487600</td>\n",
       "      <td>0.129819</td>\n",
       "    </tr>\n",
       "    <tr>\n",
       "      <th>544</th>\n",
       "      <td>2000-03-01</td>\n",
       "      <td>Microsoft Gaming</td>\n",
       "      <td>MSFT</td>\n",
       "      <td>USD</td>\n",
       "      <td>44.81250</td>\n",
       "      <td>57.5000</td>\n",
       "      <td>44.46875</td>\n",
       "      <td>53.12500</td>\n",
       "      <td>32.756535</td>\n",
       "      <td>2028187600</td>\n",
       "      <td>0.129819</td>\n",
       "    </tr>\n",
       "    <tr>\n",
       "      <th>545</th>\n",
       "      <td>2000-04-01</td>\n",
       "      <td>Microsoft Gaming</td>\n",
       "      <td>MSFT</td>\n",
       "      <td>USD</td>\n",
       "      <td>47.21875</td>\n",
       "      <td>48.2500</td>\n",
       "      <td>32.50000</td>\n",
       "      <td>34.87500</td>\n",
       "      <td>21.503712</td>\n",
       "      <td>2258146600</td>\n",
       "      <td>0.129819</td>\n",
       "    </tr>\n",
       "    <tr>\n",
       "      <th>546</th>\n",
       "      <td>2000-05-01</td>\n",
       "      <td>Microsoft Gaming</td>\n",
       "      <td>MSFT</td>\n",
       "      <td>USD</td>\n",
       "      <td>36.43750</td>\n",
       "      <td>37.0000</td>\n",
       "      <td>30.18750</td>\n",
       "      <td>31.28125</td>\n",
       "      <td>19.287834</td>\n",
       "      <td>1344430800</td>\n",
       "      <td>0.129819</td>\n",
       "    </tr>\n",
       "    <tr>\n",
       "      <th>...</th>\n",
       "      <td>...</td>\n",
       "      <td>...</td>\n",
       "      <td>...</td>\n",
       "      <td>...</td>\n",
       "      <td>...</td>\n",
       "      <td>...</td>\n",
       "      <td>...</td>\n",
       "      <td>...</td>\n",
       "      <td>...</td>\n",
       "      <td>...</td>\n",
       "      <td>...</td>\n",
       "    </tr>\n",
       "    <tr>\n",
       "      <th>2204</th>\n",
       "      <td>2024-06-01</td>\n",
       "      <td>Playtika</td>\n",
       "      <td>PLTK</td>\n",
       "      <td>USD</td>\n",
       "      <td>8.76000</td>\n",
       "      <td>9.0700</td>\n",
       "      <td>7.68000</td>\n",
       "      <td>7.87000</td>\n",
       "      <td>7.677933</td>\n",
       "      <td>19793700</td>\n",
       "      <td>0.129819</td>\n",
       "    </tr>\n",
       "    <tr>\n",
       "      <th>2205</th>\n",
       "      <td>2024-07-01</td>\n",
       "      <td>Playtika</td>\n",
       "      <td>PLTK</td>\n",
       "      <td>USD</td>\n",
       "      <td>7.86000</td>\n",
       "      <td>8.1000</td>\n",
       "      <td>7.23000</td>\n",
       "      <td>7.63000</td>\n",
       "      <td>7.536838</td>\n",
       "      <td>15108300</td>\n",
       "      <td>0.129819</td>\n",
       "    </tr>\n",
       "    <tr>\n",
       "      <th>2206</th>\n",
       "      <td>2024-08-01</td>\n",
       "      <td>Playtika</td>\n",
       "      <td>PLTK</td>\n",
       "      <td>USD</td>\n",
       "      <td>7.67000</td>\n",
       "      <td>8.0550</td>\n",
       "      <td>6.61000</td>\n",
       "      <td>7.57000</td>\n",
       "      <td>7.477571</td>\n",
       "      <td>18138900</td>\n",
       "      <td>0.129819</td>\n",
       "    </tr>\n",
       "    <tr>\n",
       "      <th>2207</th>\n",
       "      <td>2024-09-01</td>\n",
       "      <td>Playtika</td>\n",
       "      <td>PLTK</td>\n",
       "      <td>USD</td>\n",
       "      <td>7.49000</td>\n",
       "      <td>8.3550</td>\n",
       "      <td>7.15000</td>\n",
       "      <td>7.92000</td>\n",
       "      <td>7.823297</td>\n",
       "      <td>18116900</td>\n",
       "      <td>0.129819</td>\n",
       "    </tr>\n",
       "    <tr>\n",
       "      <th>2208</th>\n",
       "      <td>2024-10-01</td>\n",
       "      <td>Playtika</td>\n",
       "      <td>PLTK</td>\n",
       "      <td>USD</td>\n",
       "      <td>7.93000</td>\n",
       "      <td>8.0600</td>\n",
       "      <td>7.32000</td>\n",
       "      <td>7.83000</td>\n",
       "      <td>7.830000</td>\n",
       "      <td>11134800</td>\n",
       "      <td>0.129819</td>\n",
       "    </tr>\n",
       "  </tbody>\n",
       "</table>\n",
       "<p>1572 rows × 11 columns</p>\n",
       "</div>"
      ],
      "text/plain": [
       "            Date           Company Ticker Symbol Currency      Open     High  \\\n",
       "542   2000-01-01  Microsoft Gaming          MSFT      USD  58.68750  59.3125   \n",
       "543   2000-02-01  Microsoft Gaming          MSFT      USD  49.25000  55.0000   \n",
       "544   2000-03-01  Microsoft Gaming          MSFT      USD  44.81250  57.5000   \n",
       "545   2000-04-01  Microsoft Gaming          MSFT      USD  47.21875  48.2500   \n",
       "546   2000-05-01  Microsoft Gaming          MSFT      USD  36.43750  37.0000   \n",
       "...          ...               ...           ...      ...       ...      ...   \n",
       "2204  2024-06-01          Playtika          PLTK      USD   8.76000   9.0700   \n",
       "2205  2024-07-01          Playtika          PLTK      USD   7.86000   8.1000   \n",
       "2206  2024-08-01          Playtika          PLTK      USD   7.67000   8.0550   \n",
       "2207  2024-09-01          Playtika          PLTK      USD   7.49000   8.3550   \n",
       "2208  2024-10-01          Playtika          PLTK      USD   7.93000   8.0600   \n",
       "\n",
       "           Low     Close  Adj Close      Volume         c  \n",
       "542   47.43750  48.93750  30.174570  1274875200  0.129819  \n",
       "543   44.06250  44.68750  27.554047  1334487600  0.129819  \n",
       "544   44.46875  53.12500  32.756535  2028187600  0.129819  \n",
       "545   32.50000  34.87500  21.503712  2258146600  0.129819  \n",
       "546   30.18750  31.28125  19.287834  1344430800  0.129819  \n",
       "...        ...       ...        ...         ...       ...  \n",
       "2204   7.68000   7.87000   7.677933    19793700  0.129819  \n",
       "2205   7.23000   7.63000   7.536838    15108300  0.129819  \n",
       "2206   6.61000   7.57000   7.477571    18138900  0.129819  \n",
       "2207   7.15000   7.92000   7.823297    18116900  0.129819  \n",
       "2208   7.32000   7.83000   7.830000    11134800  0.129819  \n",
       "\n",
       "[1572 rows x 11 columns]"
      ]
     },
     "execution_count": 11,
     "metadata": {},
     "output_type": "execute_result"
    }
   ],
   "source": [
    "df[df['Currency'] == 'USD']"
   ]
  },
  {
   "cell_type": "markdown",
   "id": "fd51645d-36cc-4fde-ae9f-73f1742b80b3",
   "metadata": {},
   "source": [
    "    elif row[3] == 'HKD':\n",
    "        df['c'] = df['Open'] * 0.13\n",
    "    elif row[3] == 'SEK':\n",
    "        df['c'] = df['Open'] * 0.092"
   ]
  },
  {
   "cell_type": "markdown",
   "id": "6ecd141b-3594-4aad-827f-dca46ea97f92",
   "metadata": {},
   "source": [
    "def usd_converter(curr, col):\n",
    "    df_sep = df[df['Currency'] == curr]\n",
    "    for x in df_sep:\n",
    "        "
   ]
  },
  {
   "cell_type": "code",
   "execution_count": 12,
   "id": "88108cd9-1e05-414e-85a9-78a80f5a34a3",
   "metadata": {},
   "outputs": [],
   "source": [
    "#usd_converter('JPY', 'Open')"
   ]
  },
  {
   "cell_type": "markdown",
   "id": "990d4b17-1f53-4b1b-9b15-6d94224c4c18",
   "metadata": {},
   "source": [
    "df[df['Currency'] == 'JPY']"
   ]
  },
  {
   "cell_type": "code",
   "execution_count": null,
   "id": "e63c70ac-0e48-4115-9c58-24a24fd66f69",
   "metadata": {},
   "outputs": [],
   "source": []
  }
 ],
 "metadata": {
  "kernelspec": {
   "display_name": "Python 3 (ipykernel)",
   "language": "python",
   "name": "python3"
  },
  "language_info": {
   "codemirror_mode": {
    "name": "ipython",
    "version": 3
   },
   "file_extension": ".py",
   "mimetype": "text/x-python",
   "name": "python",
   "nbconvert_exporter": "python",
   "pygments_lexer": "ipython3",
   "version": "3.12.3"
  }
 },
 "nbformat": 4,
 "nbformat_minor": 5
}
