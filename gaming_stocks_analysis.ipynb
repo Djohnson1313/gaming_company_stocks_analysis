{
 "cells": [
  {
   "cell_type": "code",
   "execution_count": 1,
   "id": "41945f9f-00f4-4490-aabd-a631ef3ef9b7",
   "metadata": {},
   "outputs": [],
   "source": [
    "import pandas as pd\n",
    "import numpy as np"
   ]
  },
  {
   "cell_type": "code",
   "execution_count": 3,
   "id": "a66f3827-62b5-4713-8cfc-e2cedcea3da8",
   "metadata": {},
   "outputs": [],
   "source": [
    "df = pd.read_csv('gaming_stocks.zip')"
   ]
  },
  {
   "cell_type": "code",
   "execution_count": 4,
   "id": "ff5e863a-8af7-4173-9533-507d0c0fca20",
   "metadata": {},
   "outputs": [
    {
     "data": {
      "text/html": [
       "<div>\n",
       "<style scoped>\n",
       "    .dataframe tbody tr th:only-of-type {\n",
       "        vertical-align: middle;\n",
       "    }\n",
       "\n",
       "    .dataframe tbody tr th {\n",
       "        vertical-align: top;\n",
       "    }\n",
       "\n",
       "    .dataframe thead th {\n",
       "        text-align: right;\n",
       "    }\n",
       "</style>\n",
       "<table border=\"1\" class=\"dataframe\">\n",
       "  <thead>\n",
       "    <tr style=\"text-align: right;\">\n",
       "      <th></th>\n",
       "      <th>Date</th>\n",
       "      <th>Company</th>\n",
       "      <th>Ticker Symbol</th>\n",
       "      <th>Currency</th>\n",
       "      <th>Open</th>\n",
       "      <th>High</th>\n",
       "      <th>Low</th>\n",
       "      <th>Close</th>\n",
       "      <th>Adj Close</th>\n",
       "      <th>Volume</th>\n",
       "    </tr>\n",
       "  </thead>\n",
       "  <tbody>\n",
       "    <tr>\n",
       "      <th>0</th>\n",
       "      <td>2000-01-01</td>\n",
       "      <td>Sony Interactive Entertainment</td>\n",
       "      <td>SONY</td>\n",
       "      <td>JPY</td>\n",
       "      <td>28.525000</td>\n",
       "      <td>29.168751</td>\n",
       "      <td>20.850000</td>\n",
       "      <td>25.299999</td>\n",
       "      <td>14.535083</td>\n",
       "      <td>147012000</td>\n",
       "    </tr>\n",
       "    <tr>\n",
       "      <th>1</th>\n",
       "      <td>2000-02-01</td>\n",
       "      <td>Sony Interactive Entertainment</td>\n",
       "      <td>SONY</td>\n",
       "      <td>JPY</td>\n",
       "      <td>25.293751</td>\n",
       "      <td>31.475000</td>\n",
       "      <td>25.000000</td>\n",
       "      <td>31.350000</td>\n",
       "      <td>18.010864</td>\n",
       "      <td>67437000</td>\n",
       "    </tr>\n",
       "    <tr>\n",
       "      <th>2</th>\n",
       "      <td>2000-03-01</td>\n",
       "      <td>Sony Interactive Entertainment</td>\n",
       "      <td>SONY</td>\n",
       "      <td>JPY</td>\n",
       "      <td>30.100000</td>\n",
       "      <td>31.299999</td>\n",
       "      <td>21.700001</td>\n",
       "      <td>28.012501</td>\n",
       "      <td>16.093437</td>\n",
       "      <td>112674000</td>\n",
       "    </tr>\n",
       "    <tr>\n",
       "      <th>3</th>\n",
       "      <td>2000-04-01</td>\n",
       "      <td>Sony Interactive Entertainment</td>\n",
       "      <td>SONY</td>\n",
       "      <td>JPY</td>\n",
       "      <td>28.250000</td>\n",
       "      <td>28.250000</td>\n",
       "      <td>22.312500</td>\n",
       "      <td>22.562500</td>\n",
       "      <td>12.974537</td>\n",
       "      <td>74071000</td>\n",
       "    </tr>\n",
       "    <tr>\n",
       "      <th>4</th>\n",
       "      <td>2000-05-01</td>\n",
       "      <td>Sony Interactive Entertainment</td>\n",
       "      <td>SONY</td>\n",
       "      <td>JPY</td>\n",
       "      <td>22.700001</td>\n",
       "      <td>23.481251</td>\n",
       "      <td>17.750000</td>\n",
       "      <td>18.237499</td>\n",
       "      <td>10.487453</td>\n",
       "      <td>65035500</td>\n",
       "    </tr>\n",
       "  </tbody>\n",
       "</table>\n",
       "</div>"
      ],
      "text/plain": [
       "         Date                         Company Ticker Symbol Currency  \\\n",
       "0  2000-01-01  Sony Interactive Entertainment          SONY      JPY   \n",
       "1  2000-02-01  Sony Interactive Entertainment          SONY      JPY   \n",
       "2  2000-03-01  Sony Interactive Entertainment          SONY      JPY   \n",
       "3  2000-04-01  Sony Interactive Entertainment          SONY      JPY   \n",
       "4  2000-05-01  Sony Interactive Entertainment          SONY      JPY   \n",
       "\n",
       "        Open       High        Low      Close  Adj Close     Volume  \n",
       "0  28.525000  29.168751  20.850000  25.299999  14.535083  147012000  \n",
       "1  25.293751  31.475000  25.000000  31.350000  18.010864   67437000  \n",
       "2  30.100000  31.299999  21.700001  28.012501  16.093437  112674000  \n",
       "3  28.250000  28.250000  22.312500  22.562500  12.974537   74071000  \n",
       "4  22.700001  23.481251  17.750000  18.237499  10.487453   65035500  "
      ]
     },
     "execution_count": 4,
     "metadata": {},
     "output_type": "execute_result"
    }
   ],
   "source": [
    "df.head()"
   ]
  },
  {
   "cell_type": "code",
   "execution_count": 6,
   "id": "db8e0568-b8e9-4292-bf9d-187e7e08162d",
   "metadata": {},
   "outputs": [
    {
     "name": "stdout",
     "output_type": "stream",
     "text": [
      "<class 'pandas.core.frame.DataFrame'>\n",
      "RangeIndex: 2209 entries, 0 to 2208\n",
      "Data columns (total 10 columns):\n",
      " #   Column         Non-Null Count  Dtype  \n",
      "---  ------         --------------  -----  \n",
      " 0   Date           2209 non-null   object \n",
      " 1   Company        2209 non-null   object \n",
      " 2   Ticker Symbol  2209 non-null   object \n",
      " 3   Currency       2209 non-null   object \n",
      " 4   Open           2209 non-null   float64\n",
      " 5   High           2209 non-null   float64\n",
      " 6   Low            2209 non-null   float64\n",
      " 7   Close          2209 non-null   float64\n",
      " 8   Adj Close      2209 non-null   float64\n",
      " 9   Volume         2209 non-null   int64  \n",
      "dtypes: float64(5), int64(1), object(4)\n",
      "memory usage: 172.7+ KB\n"
     ]
    }
   ],
   "source": [
    "df.info()"
   ]
  },
  {
   "cell_type": "markdown",
   "id": "f7a05e9c-226c-4f93-9f17-9b87ce97af5d",
   "metadata": {},
   "source": [
    "## Column Metadata\n",
    "\n",
    "- Company\n",
    "    - The name of the video game company\n",
    "- Ticker Symbol\n",
    "    - The stock's unique symbol used for trading\n",
    "- Currency\n",
    "    - The currency used for the stock's price (e.g., USD, JPY)\n",
    "- Open\n",
    "    - The stock price at market open for the given day\n",
    "- High\n",
    "    - The highest stock price during the trading day\n",
    "- Low\n",
    "    - The lowest stock price during the trading day\n",
    "- Close\n",
    "    - The stock price at market close for the given day\n",
    "- Adj Close\n",
    "    - The adjusted closing price, accounting for dividends and stock splits\n",
    "- Volume\n",
    "    - The total number of shares traded during the day\r\n",
    "## Note From Original Dataset Creator\n",
    "\n",
    "While _Epic Games_ and _MiHoYo_ are also major players in the video game industry, and would have ranked no. 7 and 10 respectively, they are privately held and do not have publicly traded stocks, so their financial data is not included in this dataset.\r\n",
    "\r\n",
    "The dataset contains monthly data for the period from January 1, 2000, to October 31, 2024. The data was extracted using the Yahoo Finance library in Python, and includes key market metrics such as stock opening/closing prices, trading volume, and other relevant financial indicators.\n"
   ]
  },
  {
   "cell_type": "code",
   "execution_count": 7,
   "id": "700f8fd7-1856-4457-a620-cc77bcc97a45",
   "metadata": {},
   "outputs": [
    {
     "data": {
      "text/plain": [
       "Company\n",
       "Sony Interactive Entertainment       298\n",
       "Microsoft Gaming                     298\n",
       "Nintendo                             298\n",
       "Electronic Arts                      298\n",
       "Take-Two Interactive                 298\n",
       "NetEase Games                        292\n",
       "Tencent Interactive Entertainment    244\n",
       "Embracer Group                        95\n",
       "Playtika                              45\n",
       "Roblox Corporation                    43\n",
       "Name: count, dtype: int64"
      ]
     },
     "execution_count": 7,
     "metadata": {},
     "output_type": "execute_result"
    }
   ],
   "source": [
    "df['Company'].value_counts()"
   ]
  },
  {
   "cell_type": "code",
   "execution_count": null,
   "id": "1ee63d08-7f99-4478-8939-ca8b5aab74da",
   "metadata": {},
   "outputs": [],
   "source": []
  }
 ],
 "metadata": {
  "kernelspec": {
   "display_name": "Python 3 (ipykernel)",
   "language": "python",
   "name": "python3"
  },
  "language_info": {
   "codemirror_mode": {
    "name": "ipython",
    "version": 3
   },
   "file_extension": ".py",
   "mimetype": "text/x-python",
   "name": "python",
   "nbconvert_exporter": "python",
   "pygments_lexer": "ipython3",
   "version": "3.12.3"
  }
 },
 "nbformat": 4,
 "nbformat_minor": 5
}
