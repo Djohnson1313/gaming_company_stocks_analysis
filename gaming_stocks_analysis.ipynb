{
 "cells": [
  {
   "cell_type": "markdown",
   "id": "60d29299-e482-4cc8-a1a7-42d5682051ad",
   "metadata": {},
   "source": [
    "# Gaming Stocks Analysis\n",
    "---"
   ]
  },
  {
   "cell_type": "markdown",
   "id": "3c412068-d70c-40a4-8de4-0d82544b8e61",
   "metadata": {},
   "source": [
    "## Author Information\n",
    "\n",
    "Name : Darryn Johnson\n",
    "\n",
    "Date last updated : 11/28/2024"
   ]
  },
  {
   "cell_type": "markdown",
   "id": "e6b1837c-a9ef-44ab-878f-2a7173e166ca",
   "metadata": {},
   "source": [
    "---\n",
    "## Sources and Links\n",
    "\n",
    "Original Kaggle dataset : [Video Game Stocks: Financial Market Data](https://www.kaggle.com/datasets/datadrivenx/video-game-stocks-financial-market-data)"
   ]
  },
  {
   "cell_type": "markdown",
   "id": "41cbfe2a-38e7-4ac3-beec-6e2821dd6862",
   "metadata": {},
   "source": [
    "---\n",
    "# Overview"
   ]
  },
  {
   "cell_type": "markdown",
   "id": "a50ed59d-ddd4-4e7e-b41f-dba27213452b",
   "metadata": {},
   "source": [
    "---\n",
    "# Imports"
   ]
  },
  {
   "cell_type": "code",
   "execution_count": 1,
   "id": "41945f9f-00f4-4490-aabd-a631ef3ef9b7",
   "metadata": {},
   "outputs": [],
   "source": [
    "import pandas as pd\n",
    "import numpy as np\n",
    "import matplotlib.pyplot as plt\n",
    "import matplotlib.patches as mpatches\n",
    "import seaborn as sns\n",
    "import warnings"
   ]
  },
  {
   "cell_type": "code",
   "execution_count": 2,
   "id": "df687412-82fc-4dc2-b1cc-8115ed09a59e",
   "metadata": {},
   "outputs": [],
   "source": [
    "df = pd.read_csv('gaming_stocks.zip')"
   ]
  },
  {
   "cell_type": "markdown",
   "id": "2452f8c1-2ac6-43d0-ac33-bd7bdb315927",
   "metadata": {},
   "source": [
    "---\n",
    "# Reproducability\n",
    "\n",
    "To reproduce these results yourself, open google colab and locate this github repo under my github account. From there, simply run the notebook from start to finish."
   ]
  },
  {
   "cell_type": "code",
   "execution_count": 3,
   "id": "f2753a4d-cc7b-449a-a643-f1e26823a6f8",
   "metadata": {},
   "outputs": [],
   "source": [
    "# !kaggle datasets download -d datadrivenx/video-game-stocks-financial-market-data\n",
    "# !unzip datadrivenx/video-game-stocks-financial-market-data"
   ]
  },
  {
   "cell_type": "markdown",
   "id": "2879ff34-d411-4e0e-b561-0e74d898600f",
   "metadata": {},
   "source": [
    "---\n",
    "# Business Understanding \n",
    "\n",
    "The purpose of the following notebook is to look into patters in the stock market ragerding gaming tech companies. This is valuable to shareholders and investors as it gives insigt to the iner-workings of this specific field, and can inform a decision.\n",
    "\n",
    "- Business Objectives\n",
    "    - analize stock data to locate a trend\n",
    "- Situation Assesement\n",
    "    - resources available\n",
    "        - stock opening/closing prices, trading volume, and other relevant financial indicators\n",
    "    - resources unavailable\n",
    "        - undisclosed internal information such as :\n",
    "            - upcoming unanounced releases\n",
    "            - internal stresses that may cause unpredictable outcomes\n",
    "- Data Mining Goal\n",
    "    - assess and understand the data provided\n",
    "- Project plan\n",
    "    - produce accurate and usable metrics to inform a decision regarding stock market investments"
   ]
  },
  {
   "cell_type": "markdown",
   "id": "0b15bfa4-c1a0-4d51-b285-59134ae37c45",
   "metadata": {},
   "source": [
    "---\n",
    "# Data Understanding \n",
    "Let's take a quick look into what the data we are working with actually is. In this case, we have metadata, which is just data about the data.  \n",
    "\n",
    "## Column Metadata\n",
    "\n",
    "- Company\n",
    "    - The name of the video game company\n",
    "- Ticker Symbol\n",
    "    - The stock's unique symbol used for trading\n",
    "- Currency\n",
    "    - The currency used for the stock's price\n",
    "        - USD - United States Dollar | 1 : 1 USD\n",
    "            - Microsoft Gaming\n",
    "            - Electronic Arts\n",
    "            - Take Two interactive\n",
    "            - NetEase Games\n",
    "            - Roblox Corporation\n",
    "            - Nintendo\n",
    "            - Playtika\n",
    "        - JPY - Japanese Yen | 1 JPY : 0.0067 USD\n",
    "            - Sony Interactive Entertainment\n",
    "        - HKD - Hong Kong Dollar | 1 HKD : 0.13 USD\n",
    "            - Tencent Interactive Entertainment\n",
    "        - SEK - Swedish Krona | 1 SEK : 0.092 USD\n",
    "            - Embracer Group\n",
    "- Open\n",
    "    - The stock price at market open for the given day\n",
    "- High\n",
    "    - The highest stock price during the trading day\n",
    "- Low\n",
    "    - The lowest stock price during the trading day\n",
    "- Close\n",
    "    - The stock price at market close for the given day\n",
    "- Adj Close\n",
    "    - The adjusted closing price, accounting for dividends and stock splits\n",
    "        - dividends\n",
    "            - a payment to a shareholder with additional stocks rather then money\n",
    "        - stock splits\n",
    "            - spliting owned stocks into smaller subsets, while maintaining the overall value of the stocks \n",
    "- Volume\n",
    "    - The total number of shares traded during the day\n",
    "\n",
    "## Note From Original Dataset Creator\n",
    "\n",
    "While _Epic Games_ and _MiHoYo_ are also major players in the video game industry, and would have ranked no. 7 and 10 respectively, they are privately held and do not have publicly traded stocks, so their financial data is not included in this dataset.\n",
    "\n",
    "The dataset contains monthly data for the period from January 1, 2000, to October 31, 2024. The data was extracted using the Yahoo Finance library in Python, and includes key market metrics such as stock opening/closing prices, trading volume, and other relevant financial indicators."
   ]
  },
  {
   "cell_type": "markdown",
   "id": "722095d9-002d-4903-91ac-a30f3a9ced01",
   "metadata": {},
   "source": [
    "---\n",
    "# Data Distribution"
   ]
  },
  {
   "cell_type": "markdown",
   "id": "da164319-0637-4ddb-9333-6b0bea88dd4f",
   "metadata": {},
   "source": [
    "---\n",
    "# Data Preparation"
   ]
  },
  {
   "cell_type": "code",
   "execution_count": 4,
   "id": "66750a6e-f2c0-42ce-aec3-c455645e5f0b",
   "metadata": {},
   "outputs": [],
   "source": [
    "df['Date'] = pd.to_datetime(df['Date'])"
   ]
  },
  {
   "cell_type": "code",
   "execution_count": 5,
   "id": "84e59b2d-0e76-41d8-ae60-6496c9217e46",
   "metadata": {
    "scrolled": true
   },
   "outputs": [],
   "source": [
    "df['year'] = df['Date'].dt.year"
   ]
  },
  {
   "cell_type": "markdown",
   "id": "70152180-6103-41e6-ac9a-2ae4892023e0",
   "metadata": {},
   "source": [
    "## Conversion Column Creation"
   ]
  },
  {
   "cell_type": "code",
   "execution_count": 6,
   "id": "479ae96c-c955-4870-89db-a9ddde22a5b5",
   "metadata": {},
   "outputs": [],
   "source": [
    "df['Open Value in USD'] = ''\n",
    "\n",
    "for ind, row in df.iterrows():\n",
    "    if row.iloc[3] == 'JPY':\n",
    "        df.loc[ind, 'Open Value in USD'] = row['Open'] * 0.0067\n",
    "    elif row.iloc[3] == 'HKD':\n",
    "        df.loc[ind, 'Open Value in USD'] = row['Open'] * 0.13\n",
    "    elif row.iloc[3] == 'SEK':\n",
    "        df.loc[ind, 'Open Value in USD'] = row['Open'] * 0.092\n",
    "    elif row.iloc[3] == 'USD':\n",
    "        df.loc[ind, 'Open Value in USD'] = row['Open']"
   ]
  },
  {
   "cell_type": "code",
   "execution_count": 7,
   "id": "eb22f2c7-13d0-459c-9c01-07ac52211420",
   "metadata": {},
   "outputs": [],
   "source": [
    "df['High Value in USD'] = ''\n",
    "\n",
    "for ind, row in df.iterrows():\n",
    "    if row.iloc[3] == 'JPY':\n",
    "        df.loc[ind, 'High Value in USD'] = row['High'] * 0.0067\n",
    "    elif row.iloc[3] == 'HKD':\n",
    "        df.loc[ind, 'High Value in USD'] = row['High'] * 0.13\n",
    "    elif row.iloc[3] == 'SEK':\n",
    "        df.loc[ind, 'High Value in USD'] = row['High'] * 0.092\n",
    "    elif row.iloc[3] == 'USD':\n",
    "        df.loc[ind, 'High Value in USD'] = row['High']"
   ]
  },
  {
   "cell_type": "code",
   "execution_count": 8,
   "id": "2fbb48b4-d011-4ad5-b45c-d3738203419f",
   "metadata": {},
   "outputs": [],
   "source": [
    "df['Low Value in USD'] = ''\n",
    "\n",
    "for ind, row in df.iterrows():\n",
    "    if row.iloc[3] == 'JPY':\n",
    "        df.loc[ind, 'Low Value in USD'] = row['Low'] * 0.0067\n",
    "    elif row.iloc[3] == 'HKD':\n",
    "        df.loc[ind, 'Low Value in USD'] = row['Low'] * 0.13\n",
    "    elif row.iloc[3] == 'SEK':\n",
    "        df.loc[ind, 'Low Value in USD'] = row['Low'] * 0.092\n",
    "    elif row.iloc[3] == 'USD':\n",
    "        df.loc[ind, 'Low Value in USD'] = row['Low']"
   ]
  },
  {
   "cell_type": "code",
   "execution_count": 9,
   "id": "15f2de5c-33b9-4d89-9ce2-37f849f8ac58",
   "metadata": {},
   "outputs": [],
   "source": [
    "df['Close Value in USD'] = ''\n",
    "\n",
    "for ind, row in df.iterrows():\n",
    "    if row.iloc[3] == 'JPY':\n",
    "        df.loc[ind, 'Close Value in USD'] = row['Close'] * 0.0067\n",
    "    elif row.iloc[3] == 'HKD':\n",
    "        df.loc[ind, 'Close Value in USD'] = row['Close'] * 0.13\n",
    "    elif row.iloc[3] == 'SEK':\n",
    "        df.loc[ind, 'Close Value in USD'] = row['Close'] * 0.092\n",
    "    elif row.iloc[3] == 'USD':\n",
    "        df.loc[ind, 'Close Value in USD'] = row['Close']"
   ]
  },
  {
   "cell_type": "code",
   "execution_count": 10,
   "id": "e5ca1b76-a43f-4a78-b2e1-8cbc7a9661ab",
   "metadata": {},
   "outputs": [],
   "source": [
    "df['Adj Close in USD'] = ''\n",
    "\n",
    "for ind, row in df.iterrows():\n",
    "    if row.iloc[3] == 'JPY':\n",
    "        df.loc[ind, 'Adj Close in USD'] = row['Adj Close'] * 0.0067\n",
    "    elif row.iloc[3] == 'HKD':\n",
    "        df.loc[ind, 'Adj Close in USD'] = row['Adj Close'] * 0.13\n",
    "    elif row.iloc[3] == 'SEK':\n",
    "        df.loc[ind, 'Adj Close in USD'] = row['Adj Close'] * 0.092\n",
    "    elif row.iloc[3] == 'USD':\n",
    "        df.loc[ind, 'Adj Close in USD'] = row['Adj Close']"
   ]
  },
  {
   "cell_type": "markdown",
   "id": "6d767709-615b-44f1-acda-7ac89b9f92e7",
   "metadata": {},
   "source": [
    "---\n",
    "## Methodology"
   ]
  },
  {
   "cell_type": "markdown",
   "id": "5116f5cf-68b0-458a-a433-7174299d5c6a",
   "metadata": {},
   "source": [
    "---\n",
    "# Functions"
   ]
  },
  {
   "cell_type": "code",
   "execution_count": 11,
   "id": "2037764a-c829-47c5-bd78-d535f1de6bfa",
   "metadata": {},
   "outputs": [],
   "source": [
    "def value_calc(company, col):\n",
    "    '''\n",
    "    This function takes in 2 arguments, what company you want, and what col to sum.\n",
    "\n",
    "    example : (Nintendo, Open)\n",
    "\n",
    "    requirments : company input must str, col input must be str.\n",
    "    '''\n",
    "    \n",
    "    d_frame = df[df['Company'] == company]\n",
    "    print(sum(d_frame[col]))"
   ]
  },
  {
   "cell_type": "code",
   "execution_count": 12,
   "id": "d01675b9-418d-4096-be7c-5f3677ff92cc",
   "metadata": {},
   "outputs": [],
   "source": [
    "def get_year_val(year1, year2, company, col):\n",
    "    '''\n",
    "    this function takes the year, company, and column and outputs the total values for that year, compared to another given year.\n",
    "    requirments : year(int), company(str) and col(str)\n",
    "    formula for percent calculation : \n",
    "        percent = ((final value - initial value) / inital value) * 100\n",
    "    '''\n",
    "    # year 1\n",
    "    comp = df[df['Company'] == company]\n",
    "    y1 = comp[comp['year'] == year1]\n",
    "    final = round(y1[col].sum(), 2)\n",
    "    \n",
    "    # year 2\n",
    "    y2 = comp[comp['year'] == year2]\n",
    "    init = round(y2[col].sum(), 1)\n",
    "\n",
    "    percent = round(((final - init) / init) * 100, 2) # get percent values\n",
    "    \n",
    "    # if statments to alter context at end of sentince \n",
    "    if percent > 0:\n",
    "        difference = 'gain'\n",
    "    elif percent < 0:\n",
    "        difference = 'loss'\n",
    "    else:\n",
    "        difference = 'change'\n",
    "\n",
    "    return f'For {company}, the year of {year1} had the {col} value of {final}, {year2} had the {col} value of {init}, resulting in a {percent}% {difference}' "
   ]
  },
  {
   "cell_type": "code",
   "execution_count": 13,
   "id": "3b9a2ab5-2cf3-46f9-8eb4-d3074fe3ef03",
   "metadata": {},
   "outputs": [],
   "source": [
    "def get_year_avg(start, end, company, col):\n",
    "    '''\n",
    "    This function takes in a start and end year, company name and what column to act upon, and returns the average value of said column between the given years.\n",
    "\n",
    "    requirments : start & end year(int), company(str) and col(str)\n",
    "    '''\n",
    "    \n",
    "    end_p = end + 1 # this variable accounts for the range function being non inclusive\n",
    "    comp = df[df['Company'] == company] # create df with only given company\n",
    "    r_1 = range(start, end_p) # create range object to devide by later\n",
    "    \n",
    "    df_list = [] # create empty list to append values to\n",
    "    \n",
    "    # this for loop iterates through the given df and the rows within, appending the rows with the given year range to df_list\n",
    "    for ind, row in comp.iterrows():\n",
    "        for r in range(start, end_p):\n",
    "            if row.iloc[10] == r:\n",
    "                df_list.append(row)\n",
    "                df_list_1 = pd.DataFrame(df_list)\n",
    "                output = round(df_list_1[col].sum(), 2)\n",
    "                length = len(r_1)\n",
    "                avg = round(output / length, 2)\n",
    "    return f'From the years of {start} to {end}, {company} close values has had an average of {avg} per year'"
   ]
  },
  {
   "cell_type": "code",
   "execution_count": 14,
   "id": "505133b9-107b-4b38-a7d9-97847e8a4fd7",
   "metadata": {},
   "outputs": [],
   "source": [
    "def plot_val(df, col):\n",
    "    \n",
    "    df_ = df\n",
    "    comp_dict = {}\n",
    "    \n",
    "    for ind, row in df_.iterrows():\n",
    "\n",
    "        key = row['Company']\n",
    "        value = row[col]\n",
    "\n",
    "        if key not in comp_dict:\n",
    "            comp_dict[key] = 0\n",
    "        comp_dict[key] += value\n",
    "\n",
    "    sorted_dict = dict(sorted(comp_dict.items(), reverse = True, key = lambda item : item[1]))\n",
    "    \n",
    "    k = list(sorted_dict.keys())\n",
    "    v = list(sorted_dict.values())\n",
    "\n",
    "    if 'USD' in col:\n",
    "        conv = ''\n",
    "        x_label = 'Values in USD' \n",
    "    else:\n",
    "        conv = 'values Before Conversion'\n",
    "        x_label = f'{col} values in respective currencies'\n",
    "    fig, ax = plt.subplots()\n",
    "    \n",
    "    plt.barh(k, v)\n",
    "    plt.title(f'{col} {conv}')\n",
    "    ax.set_xlabel(x_label)\n",
    "    ax.get_xaxis().set_major_formatter(\n",
    "        plt.FuncFormatter(lambda x, p: format(int(x), ','))) # format labels\n",
    "    plt.show();    "
   ]
  },
  {
   "cell_type": "markdown",
   "id": "7fd221bf-1c8e-459a-a94d-c5407a33a7bc",
   "metadata": {},
   "source": [
    "---\n",
    "# Company Breakdowns"
   ]
  },
  {
   "cell_type": "markdown",
   "id": "5fc2ad61-fb89-4b95-afbc-1e417e6b7313",
   "metadata": {},
   "source": [
    "## Microsoft Gaming"
   ]
  },
  {
   "cell_type": "markdown",
   "id": "8123ff3d-98f0-4283-b1f0-b6ba1e7790aa",
   "metadata": {},
   "source": [
    "[Microsoft Gaming](https://en.wikipedia.org/wiki/Microsoft_Gaming) is a multinational division of [Microsoft](https://en.wikipedia.org/wiki/Microsoft) based out of Redmond, Washington. Microsoft Gaming itself is made up of other developers and publishers including but not limited to : Xbox Game Studios, Bethesda Softworks (publisher of ZeniMax Media), Activision, Blizzard Entertainment, and King (the latter three are publishers of Activision Blizzard). Before Microsoft made the acquisitions mentioned above, their gaming division was known as [Microsoft Game Studios](https://en.wikipedia.org/wiki/Xbox_Game_Studios) (MGS). The name of the division was changed in 2022 to envelop the newly purchased studios under one umbrella. Upon the finalizing of the purchase of [Activion Blizzard](https://en.wikipedia.org/wiki/Activision_Blizzard), which itself includes many smaller studios such as [Treyarch](https://en.wikipedia.org/wiki/Treyarch) and [Infinity Ward](https://en.wikipedia.org/wiki/Infinity_Ward), Microsft Gaming became one of the worlds largest gaming companies, only rivaled by companies such as Sony, Nintendo and Tencent. Microsft is known for several AAA games such as the Halo series, Flight Simulator and Gears of War. Now that Microsft Gaming has largely expanded its reach with the acquisitons mentions above, they now are associated with some of the biggest games in the world, such as Call of Duty, the Warcraft series, Minecraft and Candy Crush. The addition of these extremely profitable and popular games (on top of Microsoft already making gaming consoles and computers)no doubt adds much interest into the stock associated with this company. "
   ]
  },
  {
   "cell_type": "markdown",
   "id": "4fdf023f-24f6-40eb-884c-a585bde213a2",
   "metadata": {},
   "source": [
    "Let's look into how Microsft Gaming has evolved over the years reagrding stock info and the related first party releases and projects they have released to the public."
   ]
  },
  {
   "cell_type": "code",
   "execution_count": 15,
   "id": "395c4728-fcec-4df0-867d-8df8aa492830",
   "metadata": {},
   "outputs": [
    {
     "data": {
      "image/png": "[encoded data removed]",
      "text/plain": [
       "<Figure size 640x480 with 1 Axes>"
      ]
     },
     "metadata": {},
     "output_type": "display_data"
    }
   ],
   "source": [
    "fig, ax = plt.subplots()\n",
    "\n",
    "micro = df[df['Company'] == 'Microsoft Gaming'].copy()\n",
    "micro_sort = micro.groupby('year')['Close'].sum()\n",
    "ax = micro_sort.plot(kind = 'bar')\n",
    "\n",
    "# halo release dates\n",
    "ax.patches[1].set_color('g')\n",
    "ax.patches[4].set_color('g')\n",
    "ax.patches[7].set_color('g')\n",
    "ax.patches[9].set_color('g')\n",
    "ax.patches[10].set_color('g')\n",
    "ax.patches[12].set_color('g')\n",
    "ax.patches[15].set_color('g')\n",
    "ax.patches[17].set_color('g')\n",
    "ax.patches[21].set_color('g')\n",
    "\n",
    "# console release dates\n",
    "ax.axvline([1], color = 'k')\n",
    "ax.axvline([5], color = 'k')\n",
    "ax.axvline([13], color = 'k')\n",
    "ax.axvline([20], color = 'k')\n",
    "\n",
    "# pandemic\n",
    "plt.axvspan(20, 23, color = 'r', alpha = 0.3)\n",
    "\n",
    "ax.get_yaxis().set_major_formatter(\n",
    "    plt.FuncFormatter(lambda x, p: format(int(x), ','))) # format labels\n",
    "\n",
    "#legend creation\n",
    "halo_release = mpatches.Patch(color = 'g', label = 'Major Halo Releases')\n",
    "console_release = mpatches.Patch(color = 'k', label = 'Major Console Releases')\n",
    "pandemic = mpatches.Patch(color = 'lightcoral', label = 'Pandemic')\n",
    "\n",
    "#labels\n",
    "ax.set_title('Microsoft Gaming Total Close Values')\n",
    "ax.set_ylabel('Total Close Values in USD')\n",
    "\n",
    "#output\n",
    "plt.legend(handles = [halo_release, console_release, pandemic])\n",
    "plt.show();"
   ]
  },
  {
   "cell_type": "markdown",
   "id": "15b239b9-d47e-4985-a975-fa0b85ea9556",
   "metadata": {},
   "source": [
    "Here we can see the total close values per year. From 2000 to 2015 we can see minimal growth, even in the years where a Halo game was released or when a new console generation is started. However, this pattern breaks in 2020, with a large increase of closing stock values for that year. This can clearly be attributed to the pandemic, where a large portion of the world was quarantined, resulting in a spike in home intertainment with gaming receiving a huge boost in popularity. This resulted in the close values for Microsoft Gaming rising by 47%."
   ]
  },
  {
   "cell_type": "code",
   "execution_count": 16,
   "id": "3d8c133d-99ae-4d53-8b09-8e562c56af6f",
   "metadata": {},
   "outputs": [
    {
     "data": {
      "text/plain": [
       "'For Microsoft Gaming, the year of 2020 had the Close value of 2335.75, 2019 had the Close value of 1588.3, resulting in a 47.06% gain'"
      ]
     },
     "execution_count": 16,
     "metadata": {},
     "output_type": "execute_result"
    }
   ],
   "source": [
    "get_year_val(2020, 2019, 'Microsoft Gaming', 'Close')"
   ]
  },
  {
   "cell_type": "markdown",
   "id": "b438b731-674d-4c91-b766-a9879c701e81",
   "metadata": {},
   "source": [
    "During the pandemic, from the years 2020 to 2023, Microsoft Gaming had an increase of 64% in closing stock values. This is a major increase in such a short amount of time, especially when compared to the "
   ]
  },
  {
   "cell_type": "code",
   "execution_count": 17,
   "id": "34b52ee6-87e8-4f65-a30c-7a5589a1b8c6",
   "metadata": {},
   "outputs": [
    {
     "data": {
      "text/plain": [
       "'From the years of 2020 to 2023, Microsoft Gaming close values has had an average of 3184.14 per year'"
      ]
     },
     "execution_count": 17,
     "metadata": {},
     "output_type": "execute_result"
    }
   ],
   "source": [
    "get_year_avg(2020, 2023, 'Microsoft Gaming', 'Close')"
   ]
  },
  {
   "cell_type": "markdown",
   "id": "90542ef1-0dac-43b5-80e1-74f99ae0af12",
   "metadata": {},
   "source": [
    "---\n",
    "# Exploritory Data Analysis (EDA)"
   ]
  },
  {
   "cell_type": "code",
   "execution_count": 18,
   "id": "ff5e863a-8af7-4173-9533-507d0c0fca20",
   "metadata": {},
   "outputs": [
    {
     "data": {
      "text/html": [
       "<div>\n",
       "<style scoped>\n",
       "    .dataframe tbody tr th:only-of-type {\n",
       "        vertical-align: middle;\n",
       "    }\n",
       "\n",
       "    .dataframe tbody tr th {\n",
       "        vertical-align: top;\n",
       "    }\n",
       "\n",
       "    .dataframe thead th {\n",
       "        text-align: right;\n",
       "    }\n",
       "</style>\n",
       "<table border=\"1\" class=\"dataframe\">\n",
       "  <thead>\n",
       "    <tr style=\"text-align: right;\">\n",
       "      <th></th>\n",
       "      <th>Date</th>\n",
       "      <th>Company</th>\n",
       "      <th>Ticker Symbol</th>\n",
       "      <th>Currency</th>\n",
       "      <th>Open</th>\n",
       "      <th>High</th>\n",
       "      <th>Low</th>\n",
       "      <th>Close</th>\n",
       "      <th>Adj Close</th>\n",
       "      <th>Volume</th>\n",
       "      <th>year</th>\n",
       "      <th>Open Value in USD</th>\n",
       "      <th>High Value in USD</th>\n",
       "      <th>Low Value in USD</th>\n",
       "      <th>Close Value in USD</th>\n",
       "      <th>Adj Close in USD</th>\n",
       "    </tr>\n",
       "  </thead>\n",
       "  <tbody>\n",
       "    <tr>\n",
       "      <th>0</th>\n",
       "      <td>2000-01-01</td>\n",
       "      <td>Sony Interactive Entertainment</td>\n",
       "      <td>SONY</td>\n",
       "      <td>JPY</td>\n",
       "      <td>28.525000</td>\n",
       "      <td>29.168751</td>\n",
       "      <td>20.850000</td>\n",
       "      <td>25.299999</td>\n",
       "      <td>14.535083</td>\n",
       "      <td>147012000</td>\n",
       "      <td>2000</td>\n",
       "      <td>0.191117</td>\n",
       "      <td>0.195431</td>\n",
       "      <td>0.139695</td>\n",
       "      <td>0.16951</td>\n",
       "      <td>0.097385</td>\n",
       "    </tr>\n",
       "    <tr>\n",
       "      <th>1</th>\n",
       "      <td>2000-02-01</td>\n",
       "      <td>Sony Interactive Entertainment</td>\n",
       "      <td>SONY</td>\n",
       "      <td>JPY</td>\n",
       "      <td>25.293751</td>\n",
       "      <td>31.475000</td>\n",
       "      <td>25.000000</td>\n",
       "      <td>31.350000</td>\n",
       "      <td>18.010864</td>\n",
       "      <td>67437000</td>\n",
       "      <td>2000</td>\n",
       "      <td>0.169468</td>\n",
       "      <td>0.210883</td>\n",
       "      <td>0.1675</td>\n",
       "      <td>0.210045</td>\n",
       "      <td>0.120673</td>\n",
       "    </tr>\n",
       "    <tr>\n",
       "      <th>2</th>\n",
       "      <td>2000-03-01</td>\n",
       "      <td>Sony Interactive Entertainment</td>\n",
       "      <td>SONY</td>\n",
       "      <td>JPY</td>\n",
       "      <td>30.100000</td>\n",
       "      <td>31.299999</td>\n",
       "      <td>21.700001</td>\n",
       "      <td>28.012501</td>\n",
       "      <td>16.093437</td>\n",
       "      <td>112674000</td>\n",
       "      <td>2000</td>\n",
       "      <td>0.20167</td>\n",
       "      <td>0.20971</td>\n",
       "      <td>0.14539</td>\n",
       "      <td>0.187684</td>\n",
       "      <td>0.107826</td>\n",
       "    </tr>\n",
       "    <tr>\n",
       "      <th>3</th>\n",
       "      <td>2000-04-01</td>\n",
       "      <td>Sony Interactive Entertainment</td>\n",
       "      <td>SONY</td>\n",
       "      <td>JPY</td>\n",
       "      <td>28.250000</td>\n",
       "      <td>28.250000</td>\n",
       "      <td>22.312500</td>\n",
       "      <td>22.562500</td>\n",
       "      <td>12.974537</td>\n",
       "      <td>74071000</td>\n",
       "      <td>2000</td>\n",
       "      <td>0.189275</td>\n",
       "      <td>0.189275</td>\n",
       "      <td>0.149494</td>\n",
       "      <td>0.151169</td>\n",
       "      <td>0.086929</td>\n",
       "    </tr>\n",
       "    <tr>\n",
       "      <th>4</th>\n",
       "      <td>2000-05-01</td>\n",
       "      <td>Sony Interactive Entertainment</td>\n",
       "      <td>SONY</td>\n",
       "      <td>JPY</td>\n",
       "      <td>22.700001</td>\n",
       "      <td>23.481251</td>\n",
       "      <td>17.750000</td>\n",
       "      <td>18.237499</td>\n",
       "      <td>10.487453</td>\n",
       "      <td>65035500</td>\n",
       "      <td>2000</td>\n",
       "      <td>0.15209</td>\n",
       "      <td>0.157324</td>\n",
       "      <td>0.118925</td>\n",
       "      <td>0.122191</td>\n",
       "      <td>0.070266</td>\n",
       "    </tr>\n",
       "  </tbody>\n",
       "</table>\n",
       "</div>"
      ],
      "text/plain": [
       "        Date                         Company Ticker Symbol Currency  \\\n",
       "0 2000-01-01  Sony Interactive Entertainment          SONY      JPY   \n",
       "1 2000-02-01  Sony Interactive Entertainment          SONY      JPY   \n",
       "2 2000-03-01  Sony Interactive Entertainment          SONY      JPY   \n",
       "3 2000-04-01  Sony Interactive Entertainment          SONY      JPY   \n",
       "4 2000-05-01  Sony Interactive Entertainment          SONY      JPY   \n",
       "\n",
       "        Open       High        Low      Close  Adj Close     Volume  year  \\\n",
       "0  28.525000  29.168751  20.850000  25.299999  14.535083  147012000  2000   \n",
       "1  25.293751  31.475000  25.000000  31.350000  18.010864   67437000  2000   \n",
       "2  30.100000  31.299999  21.700001  28.012501  16.093437  112674000  2000   \n",
       "3  28.250000  28.250000  22.312500  22.562500  12.974537   74071000  2000   \n",
       "4  22.700001  23.481251  17.750000  18.237499  10.487453   65035500  2000   \n",
       "\n",
       "  Open Value in USD High Value in USD Low Value in USD Close Value in USD  \\\n",
       "0          0.191117          0.195431         0.139695            0.16951   \n",
       "1          0.169468          0.210883           0.1675           0.210045   \n",
       "2           0.20167           0.20971          0.14539           0.187684   \n",
       "3          0.189275          0.189275         0.149494           0.151169   \n",
       "4           0.15209          0.157324         0.118925           0.122191   \n",
       "\n",
       "  Adj Close in USD  \n",
       "0         0.097385  \n",
       "1         0.120673  \n",
       "2         0.107826  \n",
       "3         0.086929  \n",
       "4         0.070266  "
      ]
     },
     "execution_count": 18,
     "metadata": {},
     "output_type": "execute_result"
    }
   ],
   "source": [
    "df.head()"
   ]
  },
  {
   "cell_type": "code",
   "execution_count": 19,
   "id": "db8e0568-b8e9-4292-bf9d-187e7e08162d",
   "metadata": {},
   "outputs": [
    {
     "name": "stdout",
     "output_type": "stream",
     "text": [
      "<class 'pandas.core.frame.DataFrame'>\n",
      "RangeIndex: 2209 entries, 0 to 2208\n",
      "Data columns (total 16 columns):\n",
      " #   Column              Non-Null Count  Dtype         \n",
      "---  ------              --------------  -----         \n",
      " 0   Date                2209 non-null   datetime64[ns]\n",
      " 1   Company             2209 non-null   object        \n",
      " 2   Ticker Symbol       2209 non-null   object        \n",
      " 3   Currency            2209 non-null   object        \n",
      " 4   Open                2209 non-null   float64       \n",
      " 5   High                2209 non-null   float64       \n",
      " 6   Low                 2209 non-null   float64       \n",
      " 7   Close               2209 non-null   float64       \n",
      " 8   Adj Close           2209 non-null   float64       \n",
      " 9   Volume              2209 non-null   int64         \n",
      " 10  year                2209 non-null   int32         \n",
      " 11  Open Value in USD   2209 non-null   object        \n",
      " 12  High Value in USD   2209 non-null   object        \n",
      " 13  Low Value in USD    2209 non-null   object        \n",
      " 14  Close Value in USD  2209 non-null   object        \n",
      " 15  Adj Close in USD    2209 non-null   object        \n",
      "dtypes: datetime64[ns](1), float64(5), int32(1), int64(1), object(8)\n",
      "memory usage: 267.6+ KB\n"
     ]
    }
   ],
   "source": [
    "df.info()"
   ]
  },
  {
   "cell_type": "code",
   "execution_count": 20,
   "id": "700f8fd7-1856-4457-a620-cc77bcc97a45",
   "metadata": {
    "scrolled": true
   },
   "outputs": [
    {
     "data": {
      "text/plain": [
       "Company\n",
       "Sony Interactive Entertainment       298\n",
       "Microsoft Gaming                     298\n",
       "Nintendo                             298\n",
       "Electronic Arts                      298\n",
       "Take-Two Interactive                 298\n",
       "NetEase Games                        292\n",
       "Tencent Interactive Entertainment    244\n",
       "Embracer Group                        95\n",
       "Playtika                              45\n",
       "Roblox Corporation                    43\n",
       "Name: count, dtype: int64"
      ]
     },
     "execution_count": 20,
     "metadata": {},
     "output_type": "execute_result"
    }
   ],
   "source": [
    "df['Company'].value_counts()"
   ]
  },
  {
   "cell_type": "code",
   "execution_count": 21,
   "id": "1ee63d08-7f99-4478-8939-ca8b5aab74da",
   "metadata": {
    "scrolled": true
   },
   "outputs": [
    {
     "data": {
      "text/plain": [
       "Currency\n",
       "USD    1572\n",
       "JPY     298\n",
       "HKD     244\n",
       "SEK      95\n",
       "Name: count, dtype: int64"
      ]
     },
     "execution_count": 21,
     "metadata": {},
     "output_type": "execute_result"
    }
   ],
   "source": [
    "df['Currency'].value_counts()"
   ]
  },
  {
   "cell_type": "code",
   "execution_count": 22,
   "id": "85407873-d854-4883-99b4-5db0c5c47f59",
   "metadata": {},
   "outputs": [
    {
     "data": {
      "image/png": "[encoded data removed]",
      "text/plain": [
       "<Figure size 640x480 with 1 Axes>"
      ]
     },
     "metadata": {},
     "output_type": "display_data"
    }
   ],
   "source": [
    "fig, ax = plt.subplots()\n",
    "df['Company'].value_counts().plot(kind = 'barh')\n",
    "ax.set_title('Entries Per Company')\n",
    "plt.show();"
   ]
  },
  {
   "cell_type": "markdown",
   "id": "a089b145-8cc8-49fa-89db-83ed8418e95e",
   "metadata": {},
   "source": [
    "---\n",
    "## Open Values"
   ]
  },
  {
   "cell_type": "code",
   "execution_count": 23,
   "id": "40dd833d-35e9-4485-8f11-5ab26b94ab4c",
   "metadata": {},
   "outputs": [
    {
     "data": {
      "image/png": "[encoded data removed]",
      "text/plain": [
       "<Figure size 640x480 with 1 Axes>"
      ]
     },
     "metadata": {},
     "output_type": "display_data"
    }
   ],
   "source": [
    "plot_val(df, 'Open')"
   ]
  },
  {
   "cell_type": "code",
   "execution_count": 24,
   "id": "b46d8e27-d266-4090-8c4b-b1140bdf04c3",
   "metadata": {},
   "outputs": [
    {
     "data": {
      "image/png": "[encoded data removed]",
      "text/plain": [
       "<Figure size 640x480 with 1 Axes>"
      ]
     },
     "metadata": {},
     "output_type": "display_data"
    }
   ],
   "source": [
    "plot_val(df, 'Open Value in USD')"
   ]
  },
  {
   "cell_type": "code",
   "execution_count": 30,
   "id": "f996c0a0-9ddd-4d16-a8ee-229eb334e1a7",
   "metadata": {},
   "outputs": [
    {
     "ename": "AttributeError",
     "evalue": "'Axes' object has no attribute 'plot_val'",
     "output_type": "error",
     "traceback": [
      "\u001b[1;31m---------------------------------------------------------------------------\u001b[0m",
      "\u001b[1;31mAttributeError\u001b[0m                            Traceback (most recent call last)",
      "Cell \u001b[1;32mIn[30], line 4\u001b[0m\n\u001b[0;32m      1\u001b[0m fig, ax \u001b[38;5;241m=\u001b[39m plt\u001b[38;5;241m.\u001b[39msubplots(\u001b[38;5;241m1\u001b[39m, \u001b[38;5;241m2\u001b[39m, figsize \u001b[38;5;241m=\u001b[39m (\u001b[38;5;241m12\u001b[39m,\u001b[38;5;241m4\u001b[39m))\n\u001b[0;32m      2\u001b[0m plt\u001b[38;5;241m.\u001b[39msubplots_adjust(wspace \u001b[38;5;241m=\u001b[39m \u001b[38;5;241m1\u001b[39m)\n\u001b[1;32m----> 4\u001b[0m g_0 \u001b[38;5;241m=\u001b[39m ax[\u001b[38;5;241m0\u001b[39m]\u001b[38;5;241m.\u001b[39mplot_val(df, \u001b[38;5;124m'\u001b[39m\u001b[38;5;124mOpen\u001b[39m\u001b[38;5;124m'\u001b[39m)\n\u001b[0;32m      5\u001b[0m g_0[\u001b[38;5;241m0\u001b[39m]\u001b[38;5;241m.\u001b[39mset_color(\u001b[38;5;124m'\u001b[39m\u001b[38;5;124mb\u001b[39m\u001b[38;5;124m'\u001b[39m)\n\u001b[0;32m      6\u001b[0m g_0[\u001b[38;5;241m1\u001b[39m]\u001b[38;5;241m.\u001b[39mset_color(\u001b[38;5;124m'\u001b[39m\u001b[38;5;124mg\u001b[39m\u001b[38;5;124m'\u001b[39m)\n",
      "\u001b[1;31mAttributeError\u001b[0m: 'Axes' object has no attribute 'plot_val'"
     ]
    },
    {
     "data": {
      "image/png": "[encoded data removed]",
      "text/plain": [
       "<Figure size 1200x400 with 2 Axes>"
      ]
     },
     "metadata": {},
     "output_type": "display_data"
    }
   ],
   "source": [
    "fig, ax = plt.subplots(1, 2, figsize = (12,4))\n",
    "plt.subplots_adjust(wspace = 1)\n",
    "\n",
    "g_0 = ax[0].plot_val(df, 'Open')\n",
    "g_0[0].set_color('b')\n",
    "g_0[1].set_color('g')\n",
    "g_0[2].set_color('k')\n",
    "g_0[3].set_color('y')\n",
    "g_0[4].set_color('darkred')\n",
    "g_0[5].set_color('saddlebrown')\n",
    "g_0[7].set_color('gray')\n",
    "g_0[8].set_color('crimson')\n",
    "g_0[9].set_color('orangered')\n",
    "ax[0].set_title('Open Values Before Conversion')\n",
    "ax[0].set_xlabel('Open Values (in Respective Currencies)')\n",
    "\n",
    "g_1 = ax[1].barh(plot_val(df, 'Open Value in USD'))\n",
    "g_1[0].set_color('g')\n",
    "g_1[1].set_color('k')\n",
    "g_1[2].set_color('y')\n",
    "g_1[3].set_color('darkred')\n",
    "g_1[4].set_color('b')\n",
    "g_1[5].set_color('gray')\n",
    "g_1[6].set_color('crimson')\n",
    "g_1[7].set_color('orangered')\n",
    "g_1[8].set_color('saddlebrown')\n",
    "ax[1].set_title('Open Values After Conversion (USD)')\n",
    "ax[1].set_xlabel('Open Values (in USD)')\n",
    "\n",
    "ax[0].get_xaxis().set_major_formatter(\n",
    "    plt.FuncFormatter(lambda x, p: format(int(x), ','))) # format labels\n",
    "\n",
    "ax[1].get_xaxis().set_major_formatter(\n",
    "    plt.FuncFormatter(lambda x, p: format(int(x), ','))) # format labels\n",
    "\n",
    "fig.suptitle('Graphs Comparing Before & After Conversion (Open Value)')\n",
    "plt.show();"
   ]
  },
  {
   "cell_type": "markdown",
   "id": "a1729988-63ac-4fc4-9f22-bf5f22cffbe6",
   "metadata": {},
   "source": [
    "---\n",
    "## High Values"
   ]
  },
  {
   "cell_type": "code",
   "execution_count": null,
   "id": "65e84ad5-2474-4031-8b41-0d0c45f40488",
   "metadata": {},
   "outputs": [],
   "source": [
    "plot_val(df, 'High')"
   ]
  },
  {
   "cell_type": "code",
   "execution_count": null,
   "id": "243dd5d7-e94c-4ab6-9506-db5553fa5ea1",
   "metadata": {},
   "outputs": [],
   "source": [
    "plot_val(df, 'High Value in USD')"
   ]
  },
  {
   "cell_type": "code",
   "execution_count": null,
   "id": "fc6280dc-4be2-467e-8b92-3b7ff57da6f0",
   "metadata": {},
   "outputs": [],
   "source": [
    "fig, ax = plt.subplots(1, 2, figsize = (12,4))\n",
    "plt.subplots_adjust(wspace = 1)\n",
    "\n",
    "g_0 = ax[0].barh(x_high, high_height, tick_label = labels_high)\n",
    "g_0[0].set_color('b')\n",
    "g_0[1].set_color('g')\n",
    "g_0[2].set_color('k')\n",
    "g_0[3].set_color('y')\n",
    "g_0[4].set_color('darkred')\n",
    "g_0[5].set_color('saddlebrown')\n",
    "g_0[7].set_color('gray')\n",
    "g_0[8].set_color('crimson')\n",
    "g_0[9].set_color('orangered')\n",
    "ax[0].set_title('High Values Before Conversion')\n",
    "ax[0].set_xlabel('High Values (in Respective Currencies)')\n",
    "\n",
    "g_1 = ax[1].barh(high_x_2, high_height_2, tick_label = high_labels_2)\n",
    "g_1[0].set_color('g')\n",
    "g_1[1].set_color('k')\n",
    "g_1[2].set_color('y')\n",
    "g_1[3].set_color('darkred')\n",
    "g_1[4].set_color('b')\n",
    "g_1[5].set_color('gray')\n",
    "g_1[6].set_color('crimson')\n",
    "g_1[7].set_color('orangered')\n",
    "g_1[8].set_color('saddlebrown')\n",
    "ax[1].set_title('High Values After Conversion (USD)')\n",
    "ax[1].set_xlabel('High Values (in USD)')\n",
    "\n",
    "ax[0].get_xaxis().set_major_formatter(\n",
    "    plt.FuncFormatter(lambda x, p: format(int(x), ','))) # format labels\n",
    "\n",
    "ax[1].get_xaxis().set_major_formatter(\n",
    "    plt.FuncFormatter(lambda x, p: format(int(x), ','))) # format labels\n",
    "\n",
    "fig.suptitle('Graphs Comparing Before & After Conversion (High Value)')\n",
    "plt.show();"
   ]
  },
  {
   "cell_type": "markdown",
   "id": "441bb8ec-a36d-496d-b884-9233803b5418",
   "metadata": {},
   "source": [
    "---\n",
    "## Low Values"
   ]
  },
  {
   "cell_type": "code",
   "execution_count": null,
   "id": "726f4be5-96b8-4a81-8de5-728e99ac4a5a",
   "metadata": {},
   "outputs": [],
   "source": [
    "plot_val(df, 'Low')"
   ]
  },
  {
   "cell_type": "code",
   "execution_count": null,
   "id": "b09ccc84-658e-4335-9a89-a6b33bcb0970",
   "metadata": {},
   "outputs": [],
   "source": [
    "plot_val(df, 'Low Value in USD')"
   ]
  },
  {
   "cell_type": "code",
   "execution_count": null,
   "id": "6e1e2e4c-af9f-4f6e-99e6-1dd201008786",
   "metadata": {},
   "outputs": [],
   "source": [
    "fig, ax = plt.subplots(1, 2, figsize = (12,4))\n",
    "plt.subplots_adjust(wspace = 1)\n",
    "\n",
    "g_0 = ax[0].barh(low_x, low_height, tick_label = low_labels)\n",
    "g_0[0].set_color('b')\n",
    "g_0[1].set_color('g')\n",
    "g_0[2].set_color('k')\n",
    "g_0[3].set_color('y')\n",
    "g_0[4].set_color('darkred')\n",
    "g_0[5].set_color('saddlebrown')\n",
    "g_0[7].set_color('crimson')\n",
    "g_0[8].set_color('gray')\n",
    "g_0[9].set_color('orangered')\n",
    "ax[0].set_title('Low Values Before Conversion')\n",
    "ax[0].set_xlabel('Low Values (in Respective Currencies)')\n",
    "\n",
    "g_1 = ax[1].barh(low_x_2, low_height_2, tick_label = low_labels_2)\n",
    "g_1[0].set_color('g')\n",
    "g_1[1].set_color('k')\n",
    "g_1[2].set_color('y')\n",
    "g_1[3].set_color('darkred')\n",
    "g_1[4].set_color('b')\n",
    "g_1[5].set_color('crimson')\n",
    "g_1[6].set_color('gray')\n",
    "g_1[7].set_color('orangered')\n",
    "g_1[8].set_color('saddlebrown')\n",
    "ax[1].set_title('Low Values After Conversion (USD)')\n",
    "ax[1].set_xlabel('Low Values (in USD)')\n",
    "\n",
    "ax[0].get_xaxis().set_major_formatter(\n",
    "    plt.FuncFormatter(lambda x, p: format(int(x), ','))) # format labels\n",
    "\n",
    "ax[1].get_xaxis().set_major_formatter(\n",
    "    plt.FuncFormatter(lambda x, p: format(int(x), ','))) # format labels\n",
    "\n",
    "fig.suptitle('Graphs Comparing Before & After Conversion (Low Value)')\n",
    "plt.show();"
   ]
  },
  {
   "cell_type": "markdown",
   "id": "34a33275-8d19-400c-83f8-a275daf5c43e",
   "metadata": {},
   "source": [
    "---\n",
    "## Close Values"
   ]
  },
  {
   "cell_type": "code",
   "execution_count": null,
   "id": "8b207d87-d614-49ad-ac38-4af50c78cd63",
   "metadata": {},
   "outputs": [],
   "source": [
    "plot_val(df, 'Close')"
   ]
  },
  {
   "cell_type": "code",
   "execution_count": null,
   "id": "c50ff0f2-bc9a-47c4-b125-44d6cb85b99a",
   "metadata": {},
   "outputs": [],
   "source": [
    "plot_val(df, 'Close Value in USD')"
   ]
  },
  {
   "cell_type": "code",
   "execution_count": null,
   "id": "b63c9ff0-ea14-4d75-8d4d-bc524edf0085",
   "metadata": {},
   "outputs": [],
   "source": [
    "fig, ax = plt.subplots(1, 2, figsize = (12,4))\n",
    "plt.subplots_adjust(wspace = 1)\n",
    "\n",
    "g_0 = ax[0].barh(close_x, close_height, tick_label = close_labels)\n",
    "g_0[0].set_color('b')\n",
    "g_0[1].set_color('g')\n",
    "g_0[2].set_color('k')\n",
    "g_0[3].set_color('y')\n",
    "g_0[4].set_color('darkred')\n",
    "g_0[5].set_color('saddlebrown')\n",
    "g_0[7].set_color('gray')\n",
    "g_0[8].set_color('crimson')\n",
    "g_0[9].set_color('orangered')\n",
    "ax[0].set_title('Close Values Before Conversion')\n",
    "ax[0].set_xlabel('Close Values (in Respective Currencies)')\n",
    "\n",
    "g_1 = ax[1].barh(close_x_2, close_height_2, tick_label = close_labels_2)\n",
    "g_1[0].set_color('g')\n",
    "g_1[1].set_color('k')\n",
    "g_1[2].set_color('y')\n",
    "g_1[3].set_color('darkred')\n",
    "g_1[4].set_color('b')\n",
    "g_1[5].set_color('gray')\n",
    "g_1[6].set_color('crimson')\n",
    "g_1[7].set_color('orangered')\n",
    "g_1[8].set_color('saddlebrown')\n",
    "ax[1].set_title('Close Values After Conversion (USD)')\n",
    "ax[1].set_xlabel('Close Values (in USD)')\n",
    "\n",
    "ax[0].get_xaxis().set_major_formatter(\n",
    "    plt.FuncFormatter(lambda x, p: format(int(x), ','))) # format labels\n",
    "\n",
    "ax[1].get_xaxis().set_major_formatter(\n",
    "    plt.FuncFormatter(lambda x, p: format(int(x), ','))) # format labels\n",
    "\n",
    "fig.suptitle('Graphs Comparing Before & After Conversion (Close Value)')\n",
    "plt.show();"
   ]
  },
  {
   "cell_type": "markdown",
   "id": "39b3d5ea-dc22-4262-b471-fcd67ed3ad37",
   "metadata": {},
   "source": [
    "---\n",
    "## Adjusted Close"
   ]
  },
  {
   "cell_type": "code",
   "execution_count": null,
   "id": "1d8d43c4-ce21-4766-a31b-a446d10cc2fe",
   "metadata": {},
   "outputs": [],
   "source": [
    "plot_val(df, 'Adj Close')"
   ]
  },
  {
   "cell_type": "code",
   "execution_count": null,
   "id": "623ec3b9-28ad-491b-a63b-2d60ee86f1cd",
   "metadata": {},
   "outputs": [],
   "source": [
    "plot_val(df, 'Adj Close in USD')"
   ]
  },
  {
   "cell_type": "code",
   "execution_count": null,
   "id": "55bc6753-18d4-47c7-988c-bf7e50a035e3",
   "metadata": {},
   "outputs": [],
   "source": [
    "fig, ax = plt.subplots(1, 2, figsize = (12,4))\n",
    "plt.subplots_adjust(wspace = 1)\n",
    "\n",
    "g_0 = ax[0].barh(adj_x, adj_height, tick_label = adj_labels)\n",
    "g_0[0].set_color('b')\n",
    "g_0[1].set_color('g')\n",
    "g_0[2].set_color('k')\n",
    "g_0[3].set_color('y')\n",
    "g_0[4].set_color('darkred')\n",
    "g_0[5].set_color('saddlebrown')\n",
    "g_0[7].set_color('gray')\n",
    "g_0[8].set_color('crimson')\n",
    "g_0[9].set_color('orangered')\n",
    "ax[0].set_title('Adj Close Values Before Conversion')\n",
    "ax[0].set_xlabel('Adj Close Values (in Respective Currencies)')\n",
    "\n",
    "g_1 = ax[1].barh(adj_x_2, adj_height_2, tick_label = adj_labels_2)\n",
    "g_1[0].set_color('g')\n",
    "g_1[1].set_color('k')\n",
    "g_1[2].set_color('y')\n",
    "g_1[3].set_color('darkred')\n",
    "g_1[4].set_color('b')\n",
    "g_1[5].set_color('gray')\n",
    "g_1[6].set_color('crimson')\n",
    "g_1[7].set_color('orangered')\n",
    "g_1[8].set_color('saddlebrown')\n",
    "ax[1].set_title('Adj Close Values After Conversion (USD)')\n",
    "ax[1].set_xlabel('Adj Close Values (in USD)')\n",
    "\n",
    "ax[0].get_xaxis().set_major_formatter(\n",
    "    plt.FuncFormatter(lambda x, p: format(int(x), ','))) # format labels\n",
    "\n",
    "ax[1].get_xaxis().set_major_formatter(\n",
    "    plt.FuncFormatter(lambda x, p: format(int(x), ','))) # format labels\n",
    "\n",
    "fig.suptitle('Graphs Comparing Before & After Conversion (Adj Close)')\n",
    "plt.show();"
   ]
  },
  {
   "cell_type": "markdown",
   "id": "2d20b85a-07e3-4f44-b399-1dbf15b32f50",
   "metadata": {},
   "source": [
    "---\n",
    "## Volume"
   ]
  },
  {
   "cell_type": "code",
   "execution_count": null,
   "id": "54b5c582-a8ae-4bb8-ba95-ecfe79715f4a",
   "metadata": {},
   "outputs": [],
   "source": [
    "warnings.filterwarnings('ignore')\n",
    "fig, ax = plt.subplots()\n",
    "\n",
    "df_vol = df.sort_values('year')\n",
    "ax.bar(df_vol['year'], df_vol['Volume'])\n",
    "current_values = plt.gca().get_yticks()\n",
    "plt.gca().set_yticklabels(['{:.0f}'.format(x) for x in current_values])\n",
    "ax.get_yaxis().set_major_formatter(\n",
    "    plt.FuncFormatter(lambda x, p: format(int(x), ','))) # format labels\n",
    "plt.show();"
   ]
  },
  {
   "cell_type": "code",
   "execution_count": null,
   "id": "4f6f0849-281a-4bb9-87a1-d5f3c711347a",
   "metadata": {},
   "outputs": [],
   "source": []
  },
  {
   "cell_type": "code",
   "execution_count": null,
   "id": "6cc0de3a-4778-4aff-a08c-737686c21ae1",
   "metadata": {},
   "outputs": [],
   "source": []
  },
  {
   "cell_type": "code",
   "execution_count": null,
   "id": "68acae5e-976b-4892-853d-d19d4dc0d10c",
   "metadata": {},
   "outputs": [],
   "source": []
  },
  {
   "cell_type": "code",
   "execution_count": null,
   "id": "407fbcbb-d590-4e3e-a1d0-c3a734baca7c",
   "metadata": {},
   "outputs": [],
   "source": []
  },
  {
   "cell_type": "code",
   "execution_count": null,
   "id": "d03e8a59-a75a-4a2b-83f2-90fc4372709c",
   "metadata": {},
   "outputs": [],
   "source": []
  },
  {
   "cell_type": "code",
   "execution_count": null,
   "id": "f50af1f4-4cd4-4fe2-b33d-5557b4a35b1d",
   "metadata": {},
   "outputs": [],
   "source": []
  },
  {
   "cell_type": "code",
   "execution_count": null,
   "id": "9fa8d113-3913-4139-8306-32c4bf4b739e",
   "metadata": {},
   "outputs": [],
   "source": []
  },
  {
   "cell_type": "code",
   "execution_count": null,
   "id": "2a861c4c-e849-4a7f-a3e5-538124c6a96e",
   "metadata": {},
   "outputs": [],
   "source": []
  },
  {
   "cell_type": "code",
   "execution_count": null,
   "id": "1eeed4ca-ad45-4a32-878e-687018b46638",
   "metadata": {},
   "outputs": [],
   "source": []
  },
  {
   "cell_type": "code",
   "execution_count": null,
   "id": "db501eac-56fc-41fc-9236-df9fbe705f15",
   "metadata": {},
   "outputs": [],
   "source": []
  },
  {
   "cell_type": "code",
   "execution_count": null,
   "id": "5c96c6e2-7ab5-46ec-b094-75ea0ee9ce83",
   "metadata": {},
   "outputs": [],
   "source": []
  },
  {
   "cell_type": "code",
   "execution_count": null,
   "id": "3858b89a-9787-49f2-b810-bd4212f64ebc",
   "metadata": {},
   "outputs": [],
   "source": [
    "entries_per_year = df.groupby('year').size()\n",
    "\n",
    "fig, ax = plt.subplots()\n",
    "\n",
    "ax.set_title('Entries per Year')\n",
    "ax.set_ylabel('Entries')\n",
    "avg = sum(entries_per_year) / len(entries_per_year)\n",
    "ax.axhline(avg, color = 'r')\n",
    "entries_per_year.plot(kind = 'bar')\n",
    "plt.legend(['Average'])\n",
    "plt.show();"
   ]
  },
  {
   "cell_type": "code",
   "execution_count": null,
   "id": "b1153688-d3fb-4646-9886-337571ddaf73",
   "metadata": {},
   "outputs": [],
   "source": [
    "print(avg)"
   ]
  },
  {
   "cell_type": "code",
   "execution_count": null,
   "id": "c17bb3b0-4968-4864-9f4c-a50455b15e18",
   "metadata": {},
   "outputs": [],
   "source": [
    "df_micro = df[df['Company'] == 'Microsoft Gaming']\n",
    "\n",
    "fig, ax = plt.subplots()\n",
    "\n",
    "x = df_micro['year']\n",
    "y = df_micro['Volume']\n",
    "ax.set_title('Microsoft Gaming Volume by year')\n",
    "\n",
    "ax.get_yaxis().set_major_formatter(\n",
    "    plt.FuncFormatter(lambda x, p: format(int(x), ','))) # format labels\n",
    "ax.bar(x, y)\n",
    "plt.show();"
   ]
  },
  {
   "cell_type": "code",
   "execution_count": null,
   "id": "ef3fc7d0-950b-46c4-9eae-fe884a228fcd",
   "metadata": {},
   "outputs": [],
   "source": [
    "df_micro.head()"
   ]
  },
  {
   "cell_type": "code",
   "execution_count": null,
   "id": "750fffc4-3b57-4c28-9b46-eef75405dd7b",
   "metadata": {},
   "outputs": [],
   "source": []
  }
 ],
 "metadata": {
  "kernelspec": {
   "display_name": "Python 3 (ipykernel)",
   "language": "python",
   "name": "python3"
  },
  "language_info": {
   "codemirror_mode": {
    "name": "ipython",
    "version": 3
   },
   "file_extension": ".py",
   "mimetype": "text/x-python",
   "name": "python",
   "nbconvert_exporter": "python",
   "pygments_lexer": "ipython3",
   "version": "3.12.3"
  }
 },
 "nbformat": 4,
 "nbformat_minor": 5
}
